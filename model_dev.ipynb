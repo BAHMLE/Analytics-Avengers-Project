{
 "cells": [
  {
   "cell_type": "markdown",
   "id": "86e11c7c-b963-4482-b17b-b62d439f9349",
   "metadata": {},
   "source": [
    "# Team Project - Team 3\n",
    "\n",
    "Objective: Create a model to predict if a car insurance claim will be filed based on data primarily relating to information about vehicles"
   ]
  },
  {
   "cell_type": "markdown",
   "id": "fc20fa37-35ad-4d2b-934f-bdb0d41d210a",
   "metadata": {},
   "source": [
    "## Import packages and libraries"
   ]
  },
  {
   "cell_type": "code",
   "execution_count": 6,
   "id": "96d9e91a-3952-41dc-b208-a01b88cf2781",
   "metadata": {
    "tags": []
   },
   "outputs": [
    {
     "name": "stdout",
     "output_type": "stream",
     "text": [
      "Looking in indexes: https://pypi.org/simple, https://pip.repos.neuron.amazonaws.com\n",
      "Requirement already satisfied: imblearn in /home/ec2-user/anaconda3/envs/python3/lib/python3.10/site-packages (0.0)\n",
      "Requirement already satisfied: imbalanced-learn in /home/ec2-user/anaconda3/envs/python3/lib/python3.10/site-packages (from imblearn) (0.10.1)\n",
      "Requirement already satisfied: numpy>=1.17.3 in /home/ec2-user/anaconda3/envs/python3/lib/python3.10/site-packages (from imbalanced-learn->imblearn) (1.22.3)\n",
      "Requirement already satisfied: scipy>=1.3.2 in /home/ec2-user/anaconda3/envs/python3/lib/python3.10/site-packages (from imbalanced-learn->imblearn) (1.10.0)\n",
      "Requirement already satisfied: threadpoolctl>=2.0.0 in /home/ec2-user/anaconda3/envs/python3/lib/python3.10/site-packages (from imbalanced-learn->imblearn) (3.1.0)\n",
      "Requirement already satisfied: scikit-learn>=1.0.2 in /home/ec2-user/anaconda3/envs/python3/lib/python3.10/site-packages (from imbalanced-learn->imblearn) (1.2.0)\n",
      "Requirement already satisfied: joblib>=1.1.1 in /home/ec2-user/anaconda3/envs/python3/lib/python3.10/site-packages (from imbalanced-learn->imblearn) (1.2.0)\n",
      "Looking in indexes: https://pypi.org/simple, https://pip.repos.neuron.amazonaws.com\n",
      "Collecting xgboost\n",
      "  Downloading xgboost-1.7.5-py3-none-manylinux2014_x86_64.whl (200.3 MB)\n",
      "\u001b[2K     \u001b[90m━━━━━━━━━━━━━━━━━━━━━━━━━━━━━━━━━━━━━━━\u001b[0m \u001b[32m200.3/200.3 MB\u001b[0m \u001b[31m3.1 MB/s\u001b[0m eta \u001b[36m0:00:00\u001b[0m00:01\u001b[0m00:01\u001b[0m\n",
      "\u001b[?25hRequirement already satisfied: scipy in /home/ec2-user/anaconda3/envs/python3/lib/python3.10/site-packages (from xgboost) (1.10.0)\n",
      "Requirement already satisfied: numpy in /home/ec2-user/anaconda3/envs/python3/lib/python3.10/site-packages (from xgboost) (1.22.3)\n",
      "Installing collected packages: xgboost\n",
      "Successfully installed xgboost-1.7.5\n"
     ]
    }
   ],
   "source": [
    "!pip install imblearn\n",
    "!pip install xgboost"
   ]
  },
  {
   "cell_type": "code",
   "execution_count": 7,
   "id": "2e281e54-b60e-41b0-9d0e-1d4db6f1565e",
   "metadata": {
    "tags": []
   },
   "outputs": [],
   "source": [
    "import pandas as pd\n",
    "import numpy as np \n",
    "import seaborn as sns\n",
    "import sagemaker\n",
    "import boto3\n",
    "\n",
    "\n",
    "from matplotlib import pyplot as plt\n",
    "from numpy import where\n",
    "from sklearn import metrics\n",
    "from sklearn.feature_selection import SequentialFeatureSelector, RFE\n",
    "from sklearn.linear_model import LogisticRegression\n",
    "from sklearn.model_selection import train_test_split\n",
    "from sklearn.dummy import DummyClassifier\n",
    "from sklearn.metrics import f1_score\n",
    "from sklearn.preprocessing import StandardScaler\n",
    "from sklearn.metrics import classification_report, confusion_matrix\n",
    "from sklearn.datasets import make_classification\n",
    "from collections import Counter\n",
    "from imblearn.over_sampling import SMOTE\n",
    "from xgboost import XGBClassifier\n",
    "from sagemaker import get_execution_role\n",
    "from sagemaker.predictor import csv_serializer\n",
    "from sagemaker.xgboost.estimator import XGBoost\n",
    "from time import gmtime, strftime\n",
    "import statsmodels.api as sm\n",
    "from sagemaker.tuner import (\n",
    "    IntegerParameter,\n",
    "    CategoricalParameter,\n",
    "    ContinuousParameter,\n",
    "    HyperparameterTuner,\n",
    ")\n",
    "\n",
    "\n",
    "%matplotlib inline\n",
    "pd.set_option('display.max_columns', None)"
   ]
  },
  {
   "cell_type": "markdown",
   "id": "e7a2fd86-fae2-4e84-aff5-1b6dc3ea77c8",
   "metadata": {},
   "source": [
    "## Read data"
   ]
  },
  {
   "cell_type": "code",
   "execution_count": 8,
   "id": "82221f9d-a912-4358-a8fb-4e80ccfa8ce6",
   "metadata": {
    "tags": []
   },
   "outputs": [],
   "source": [
    "X_train = pd.read_csv('s3://techexcellence.ml.project.team3/CarInsuranceClaim/processed_data/X_train.csv')\n",
    "X_test = pd.read_csv('s3://techexcellence.ml.project.team3/CarInsuranceClaim/processed_data/X_test.csv')\n",
    "y_train = pd.read_csv('s3://techexcellence.ml.project.team3/CarInsuranceClaim/processed_data/y_train.csv')\n",
    "y_test = pd.read_csv('s3://techexcellence.ml.project.team3/CarInsuranceClaim/processed_data/y_test.csv')\n",
    "df = pd.read_csv('s3://techexcellence.ml.project.team3/CarInsuranceClaim/processed_data/processed_df.csv')"
   ]
  },
  {
   "cell_type": "markdown",
   "id": "2b38af20-3f4a-4bb3-a4f7-92721ef49c24",
   "metadata": {},
   "source": [
    "## Dummy Model"
   ]
  },
  {
   "cell_type": "code",
   "execution_count": 9,
   "id": "2d50832d-e512-4706-b96f-17b085ac58ca",
   "metadata": {
    "tags": []
   },
   "outputs": [],
   "source": [
    "features = list(df.columns[:-1])"
   ]
  },
  {
   "cell_type": "code",
   "execution_count": 10,
   "id": "28b9a43d-d645-468e-91de-3289e9789705",
   "metadata": {
    "tags": []
   },
   "outputs": [],
   "source": [
    "X_dummy = df[features]\n",
    "y_dummy = df['is_claim']"
   ]
  },
  {
   "cell_type": "code",
   "execution_count": 11,
   "id": "fa2c40fb-ceda-4466-86a3-266728a8345a",
   "metadata": {
    "tags": []
   },
   "outputs": [],
   "source": [
    "dummy_clf = DummyClassifier(strategy=\"most_frequent\", random_state=42)"
   ]
  },
  {
   "cell_type": "code",
   "execution_count": 12,
   "id": "52dc9f1e-57a1-4710-859b-32173a74c1be",
   "metadata": {
    "tags": []
   },
   "outputs": [
    {
     "data": {
      "text/html": [
       "<style>#sk-container-id-1 {color: black;background-color: white;}#sk-container-id-1 pre{padding: 0;}#sk-container-id-1 div.sk-toggleable {background-color: white;}#sk-container-id-1 label.sk-toggleable__label {cursor: pointer;display: block;width: 100%;margin-bottom: 0;padding: 0.3em;box-sizing: border-box;text-align: center;}#sk-container-id-1 label.sk-toggleable__label-arrow:before {content: \"▸\";float: left;margin-right: 0.25em;color: #696969;}#sk-container-id-1 label.sk-toggleable__label-arrow:hover:before {color: black;}#sk-container-id-1 div.sk-estimator:hover label.sk-toggleable__label-arrow:before {color: black;}#sk-container-id-1 div.sk-toggleable__content {max-height: 0;max-width: 0;overflow: hidden;text-align: left;background-color: #f0f8ff;}#sk-container-id-1 div.sk-toggleable__content pre {margin: 0.2em;color: black;border-radius: 0.25em;background-color: #f0f8ff;}#sk-container-id-1 input.sk-toggleable__control:checked~div.sk-toggleable__content {max-height: 200px;max-width: 100%;overflow: auto;}#sk-container-id-1 input.sk-toggleable__control:checked~label.sk-toggleable__label-arrow:before {content: \"▾\";}#sk-container-id-1 div.sk-estimator input.sk-toggleable__control:checked~label.sk-toggleable__label {background-color: #d4ebff;}#sk-container-id-1 div.sk-label input.sk-toggleable__control:checked~label.sk-toggleable__label {background-color: #d4ebff;}#sk-container-id-1 input.sk-hidden--visually {border: 0;clip: rect(1px 1px 1px 1px);clip: rect(1px, 1px, 1px, 1px);height: 1px;margin: -1px;overflow: hidden;padding: 0;position: absolute;width: 1px;}#sk-container-id-1 div.sk-estimator {font-family: monospace;background-color: #f0f8ff;border: 1px dotted black;border-radius: 0.25em;box-sizing: border-box;margin-bottom: 0.5em;}#sk-container-id-1 div.sk-estimator:hover {background-color: #d4ebff;}#sk-container-id-1 div.sk-parallel-item::after {content: \"\";width: 100%;border-bottom: 1px solid gray;flex-grow: 1;}#sk-container-id-1 div.sk-label:hover label.sk-toggleable__label {background-color: #d4ebff;}#sk-container-id-1 div.sk-serial::before {content: \"\";position: absolute;border-left: 1px solid gray;box-sizing: border-box;top: 0;bottom: 0;left: 50%;z-index: 0;}#sk-container-id-1 div.sk-serial {display: flex;flex-direction: column;align-items: center;background-color: white;padding-right: 0.2em;padding-left: 0.2em;position: relative;}#sk-container-id-1 div.sk-item {position: relative;z-index: 1;}#sk-container-id-1 div.sk-parallel {display: flex;align-items: stretch;justify-content: center;background-color: white;position: relative;}#sk-container-id-1 div.sk-item::before, #sk-container-id-1 div.sk-parallel-item::before {content: \"\";position: absolute;border-left: 1px solid gray;box-sizing: border-box;top: 0;bottom: 0;left: 50%;z-index: -1;}#sk-container-id-1 div.sk-parallel-item {display: flex;flex-direction: column;z-index: 1;position: relative;background-color: white;}#sk-container-id-1 div.sk-parallel-item:first-child::after {align-self: flex-end;width: 50%;}#sk-container-id-1 div.sk-parallel-item:last-child::after {align-self: flex-start;width: 50%;}#sk-container-id-1 div.sk-parallel-item:only-child::after {width: 0;}#sk-container-id-1 div.sk-dashed-wrapped {border: 1px dashed gray;margin: 0 0.4em 0.5em 0.4em;box-sizing: border-box;padding-bottom: 0.4em;background-color: white;}#sk-container-id-1 div.sk-label label {font-family: monospace;font-weight: bold;display: inline-block;line-height: 1.2em;}#sk-container-id-1 div.sk-label-container {text-align: center;}#sk-container-id-1 div.sk-container {/* jupyter's `normalize.less` sets `[hidden] { display: none; }` but bootstrap.min.css set `[hidden] { display: none !important; }` so we also need the `!important` here to be able to override the default hidden behavior on the sphinx rendered scikit-learn.org. See: https://github.com/scikit-learn/scikit-learn/issues/21755 */display: inline-block !important;position: relative;}#sk-container-id-1 div.sk-text-repr-fallback {display: none;}</style><div id=\"sk-container-id-1\" class=\"sk-top-container\"><div class=\"sk-text-repr-fallback\"><pre>DummyClassifier(random_state=42, strategy=&#x27;most_frequent&#x27;)</pre><b>In a Jupyter environment, please rerun this cell to show the HTML representation or trust the notebook. <br />On GitHub, the HTML representation is unable to render, please try loading this page with nbviewer.org.</b></div><div class=\"sk-container\" hidden><div class=\"sk-item\"><div class=\"sk-estimator sk-toggleable\"><input class=\"sk-toggleable__control sk-hidden--visually\" id=\"sk-estimator-id-1\" type=\"checkbox\" checked><label for=\"sk-estimator-id-1\" class=\"sk-toggleable__label sk-toggleable__label-arrow\">DummyClassifier</label><div class=\"sk-toggleable__content\"><pre>DummyClassifier(random_state=42, strategy=&#x27;most_frequent&#x27;)</pre></div></div></div></div></div>"
      ],
      "text/plain": [
       "DummyClassifier(random_state=42, strategy='most_frequent')"
      ]
     },
     "execution_count": 12,
     "metadata": {},
     "output_type": "execute_result"
    }
   ],
   "source": [
    "dummy_clf.fit(X_dummy, y_dummy)"
   ]
  },
  {
   "cell_type": "code",
   "execution_count": 13,
   "id": "27383fc3-3a7b-448d-974e-663a45492928",
   "metadata": {
    "tags": []
   },
   "outputs": [],
   "source": [
    "y_pred = dummy_clf.predict(X_dummy)"
   ]
  },
  {
   "cell_type": "code",
   "execution_count": 14,
   "id": "8c174bb6-095b-4821-aab5-0e617dbeea80",
   "metadata": {
    "tags": []
   },
   "outputs": [
    {
     "name": "stdout",
     "output_type": "stream",
     "text": [
      "Summary of performance: \n",
      "\n",
      "The model's accuracy is:  0.9360322228290552\n",
      "The model's F1 score is:  0.0\n"
     ]
    }
   ],
   "source": [
    "print('Summary of performance:', '\\n')\n",
    "\n",
    "#Accuracy\n",
    "print(\"The model's accuracy is: \", dummy_clf.score(X_dummy, y_dummy))\n",
    "\n",
    "#F1 score\n",
    "print(\"The model's F1 score is: \",f1_score(y_dummy, y_pred))"
   ]
  },
  {
   "cell_type": "markdown",
   "id": "c2227157-1f60-4ee1-9aca-f38fb5e85c79",
   "metadata": {},
   "source": [
    "SUMMARY: The high level of accuracy does not actually come with the best predictive power as shown by the F1 sore. Moving forward, F1 score will be the primary evaluation metric."
   ]
  },
  {
   "cell_type": "markdown",
   "id": "0b030ffe-0046-459f-b3ce-190f13515741",
   "metadata": {},
   "source": [
    "## Linear Regression Model"
   ]
  },
  {
   "cell_type": "code",
   "execution_count": 15,
   "id": "1f98bd29-e887-45cc-b4cf-155c5720e11d",
   "metadata": {
    "tags": []
   },
   "outputs": [],
   "source": [
    "reg_df = pd.DataFrame(df)"
   ]
  },
  {
   "cell_type": "code",
   "execution_count": 16,
   "id": "4072e545-e056-4232-8f9c-0e94ba70a113",
   "metadata": {
    "tags": []
   },
   "outputs": [
    {
     "name": "stdout",
     "output_type": "stream",
     "text": [
      "length of oversampled data is  76772\n",
      "Number of no subscription in oversampled data 38386\n",
      "Number of subscription 38386\n",
      "Proportion of no subscription data in oversampled data is  0.5\n",
      "Proportion of subscription data in oversampled data is  0.5\n"
     ]
    }
   ],
   "source": [
    "# Splitting train/test and balancing data\n",
    "\n",
    "X = reg_df.loc[:, reg_df.columns != 'is_claim']\n",
    "y = reg_df.loc[:, reg_df.columns == 'is_claim']\n",
    "\n",
    "os = SMOTE(random_state=0)\n",
    "X_train, X_test, y_train, y_test = train_test_split(X, y, test_size=0.3, random_state=0)\n",
    "columns = X_train.columns\n",
    "os_data_X,os_data_y=os.fit_resample(X_train, y_train)\n",
    "os_data_X = pd.DataFrame(data=os_data_X,columns=columns )\n",
    "os_data_y= pd.DataFrame(data=os_data_y,columns=['is_claim'])\n",
    "\n",
    "# we can Check the numbers of our data\n",
    "print(\"length of oversampled data is \",len(os_data_X))\n",
    "print(\"Number of no subscription in oversampled data\",len(os_data_y[os_data_y['is_claim']==0]))\n",
    "print(\"Number of subscription\",len(os_data_y[os_data_y['is_claim']==1]))\n",
    "print(\"Proportion of no subscription data in oversampled data is \",len(os_data_y[os_data_y['is_claim']==0])/len(os_data_X))\n",
    "print(\"Proportion of subscription data in oversampled data is \",len(os_data_y[os_data_y['is_claim']==1])/len(os_data_X))"
   ]
  },
  {
   "cell_type": "code",
   "execution_count": 17,
   "id": "7e83fba6-2c03-462a-9e45-49dcf05fffe4",
   "metadata": {
    "tags": []
   },
   "outputs": [
    {
     "name": "stdout",
     "output_type": "stream",
     "text": [
      "[ True  True False  True  True  True False  True  True  True  True  True\n",
      "  True  True  True  True  True  True  True False  True False False False\n",
      " False False  True False False False  True False  True False  True  True\n",
      "  True False False False False False  True False False False False False\n",
      " False False False False  True False False False  True  True False False\n",
      " False False False  True False  True False False  True  True False False\n",
      " False  True  True False  True  True  True  True  True  True False  True\n",
      "  True  True False]\n"
     ]
    }
   ],
   "source": [
    "# Recursive Feature Selection\n",
    "\n",
    "data_final_vars=reg_df.columns.values.tolist()\n",
    "y=['is_claim']\n",
    "X=[i for i in data_final_vars if i not in y]\n",
    "\n",
    "logreg = LogisticRegression()\n",
    "\n",
    "rfe = RFE(logreg, step = 20)\n",
    "rfe = rfe.fit(os_data_X, os_data_y.values.ravel())\n",
    "print(rfe.support_)"
   ]
  },
  {
   "cell_type": "code",
   "execution_count": 18,
   "id": "e87e8f7b-d56a-45c5-a2f7-bc07fdb1a8a1",
   "metadata": {
    "tags": []
   },
   "outputs": [],
   "source": [
    "cols = ['policy_tenure','age_of_car','population_density','airbags','displacement','gear_box','turning_radius',\n",
    "        'gross_weight','ncap_rating','volume','max_torque_NM','max_torque_RPM','max_power_NM','max_power_RPM',\n",
    "        'area_cluster_C10','area_cluster_C11','area_cluster_C12','area_cluster_C14','area_cluster_C2','area_cluster_C3',\n",
    "        'area_cluster_C5','area_cluster_C7','area_cluster_C8','area_cluster_C9','segment_B2','model_M6',\n",
    "        'fuel_type_Diesel','fuel_type_Petrol','engine_type_F8D Petrol Engine','engine_type_K Series Dual jet',\n",
    "        'is_esc_Yes','is_adjustable_steering_Yes','rear_brakes_type_Drum','transmission_type_Manual',\n",
    "        'steering_type_Power','is_front_fog_lights_Yes','is_rear_window_wiper_Yes','is_rear_window_defogger_Yes',\n",
    "        'is_brake_assist_Yes','is_power_door_locks_Yes','is_driver_seat_height_adjustable_Yes',\n",
    "        'is_day_night_rear_view_mirror_Yes','is_ecw_Yes']\n",
    "\n",
    "X=os_data_X[cols]\n",
    "y=os_data_y['is_claim']"
   ]
  },
  {
   "cell_type": "code",
   "execution_count": 19,
   "id": "67ad2cb2-bad4-4464-b5ee-235c06bdb4c9",
   "metadata": {
    "tags": []
   },
   "outputs": [
    {
     "name": "stderr",
     "output_type": "stream",
     "text": [
      "/home/ec2-user/anaconda3/envs/python3/lib/python3.10/site-packages/statsmodels/discrete/discrete_model.py:1819: RuntimeWarning: divide by zero encountered in true_divide\n",
      "  return 1/(1+np.exp(-X))\n"
     ]
    },
    {
     "name": "stdout",
     "output_type": "stream",
     "text": [
      "Warning: Maximum number of iterations has been exceeded.\n",
      "         Current function value: 0.658093\n",
      "         Iterations: 35\n",
      "                                          Results: Logit\n",
      "===================================================================================================\n",
      "Model:                         Logit                       Pseudo R-squared:            0.051      \n",
      "Dependent Variable:            is_claim                    AIC:                         101098.2814\n",
      "Date:                          2023-04-14 13:43            BIC:                         101338.7449\n",
      "No. Observations:              76772                       Log-Likelihood:              -50523.    \n",
      "Df Model:                      25                          LL-Null:                     -53214.    \n",
      "Df Residuals:                  76746                       LLR p-value:                 0.0000     \n",
      "Converged:                     0.0000                      Scale:                       1.0000     \n",
      "No. Iterations:                35.0000                                                             \n",
      "---------------------------------------------------------------------------------------------------\n",
      "                                      Coef.    Std.Err.     z     P>|z|      [0.025       0.975]   \n",
      "---------------------------------------------------------------------------------------------------\n",
      "policy_tenure                         0.9826      0.0210  46.7324 0.0000        0.9414       1.0238\n",
      "age_of_car                           -6.7154      0.1723 -38.9689 0.0000       -7.0532      -6.3777\n",
      "population_density                    0.0000      0.0000   8.6512 0.0000        0.0000       0.0000\n",
      "airbags                              -0.0466  40722.6961  -0.0000 1.0000   -79815.0644   79814.9711\n",
      "displacement                          0.0009     73.8606   0.0000 1.0000     -144.7633     144.7651\n",
      "gear_box                             -0.0721         nan      nan    nan           nan          nan\n",
      "turning_radius                       -0.0768  30992.4735  -0.0000 1.0000   -60744.2086   60744.0550\n",
      "gross_weight                         -0.0004     53.7861  -0.0000 1.0000     -105.4191     105.4184\n",
      "ncap_rating                          -0.0401         nan      nan    nan           nan          nan\n",
      "volume                                0.0000      0.0000   0.0000 1.0000       -0.0001       0.0001\n",
      "max_torque_NM                         0.0043    426.6695   0.0000 1.0000     -836.2525     836.2610\n",
      "max_torque_RPM                        0.0004     32.1535   0.0000 1.0000      -63.0193      63.0201\n",
      "max_power_NM                         -0.0221         nan      nan    nan           nan          nan\n",
      "max_power_RPM                        -0.0002     13.6240  -0.0000 1.0000      -26.7026      26.7023\n",
      "area_cluster_C10                     -1.2219      0.0794 -15.3951 0.0000       -1.3775      -1.0664\n",
      "area_cluster_C11                     -0.9932      0.0661 -15.0153 0.0000       -1.1229      -0.8636\n",
      "area_cluster_C12                     -1.1613      0.0606 -19.1520 0.0000       -1.2801      -1.0424\n",
      "area_cluster_C14                     -0.2615      0.0346  -7.5595 0.0000       -0.3293      -0.1937\n",
      "area_cluster_C2                      -0.3631      0.0307 -11.8174 0.0000       -0.4233      -0.3029\n",
      "area_cluster_C3                      -0.0505      0.0309  -1.6346 0.1021       -0.1110       0.0100\n",
      "area_cluster_C5                      -0.8111      0.0374 -21.7152 0.0000       -0.8843      -0.7379\n",
      "area_cluster_C7                      -1.0237      0.0527 -19.4193 0.0000       -1.1270      -0.9204\n",
      "area_cluster_C8                      -0.1856      0.0242  -7.6603 0.0000       -0.2331      -0.1381\n",
      "area_cluster_C9                      -0.6404      0.0413 -15.5208 0.0000       -0.7213      -0.5596\n",
      "segment_B2                            0.0164 394301.4049   0.0000 1.0000  -772816.5362  772816.5690\n",
      "model_M6                              0.0066         nan      nan    nan           nan          nan\n",
      "fuel_type_Diesel                      0.0080         nan      nan    nan           nan          nan\n",
      "fuel_type_Petrol                     -0.0228 318724.4924  -0.0000 1.0000  -624688.5488  624688.5033\n",
      "engine_type_F8D Petrol Engine         0.0338         nan      nan    nan           nan          nan\n",
      "engine_type_K Series Dual jet         0.0066         nan      nan    nan           nan          nan\n",
      "is_esc_Yes                            0.0887         nan      nan    nan           nan          nan\n",
      "is_adjustable_steering_Yes            0.1212 327163.9868   0.0000 1.0000  -641229.5100  641229.7524\n",
      "rear_brakes_type_Drum                -0.0141         nan      nan    nan           nan          nan\n",
      "transmission_type_Manual             -0.0061 239429.6640  -0.0000 1.0000  -469273.5244  469273.5123\n",
      "steering_type_Power                   0.0086         nan      nan    nan           nan          nan\n",
      "is_front_fog_lights_Yes               0.0963 244449.8307   0.0000 1.0000  -479112.7678  479112.9604\n",
      "is_rear_window_wiper_Yes             -0.0119  29557.4678  -0.0000 1.0000   -57931.5843   57931.5606\n",
      "is_rear_window_defogger_Yes           0.0684 262293.6918   0.0000 1.0000  -514086.1208  514086.2576\n",
      "is_brake_assist_Yes                   0.0953         nan      nan    nan           nan          nan\n",
      "is_power_door_locks_Yes              -0.0221 666279.6897  -0.0000 1.0000 -1305884.2175 1305884.1734\n",
      "is_driver_seat_height_adjustable_Yes  0.0750  87493.1986   0.0000 1.0000  -171483.4432  171483.5931\n",
      "is_day_night_rear_view_mirror_Yes    -0.0218         nan      nan    nan           nan          nan\n",
      "is_ecw_Yes                           -0.0220 664504.2984  -0.0000 1.0000 -1302404.5144 1302404.4703\n",
      "===================================================================================================\n",
      "\n"
     ]
    },
    {
     "name": "stderr",
     "output_type": "stream",
     "text": [
      "/home/ec2-user/anaconda3/envs/python3/lib/python3.10/site-packages/statsmodels/base/model.py:604: ConvergenceWarning: Maximum Likelihood optimization failed to converge. Check mle_retvals\n",
      "  warnings.warn(\"Maximum Likelihood optimization failed to \"\n",
      "/home/ec2-user/anaconda3/envs/python3/lib/python3.10/site-packages/statsmodels/discrete/discrete_model.py:1819: RuntimeWarning: divide by zero encountered in true_divide\n",
      "  return 1/(1+np.exp(-X))\n"
     ]
    }
   ],
   "source": [
    "logit_model=sm.Logit(y,X)\n",
    "\n",
    "result=logit_model.fit()\n",
    "print(result.summary2())"
   ]
  },
  {
   "cell_type": "code",
   "execution_count": 20,
   "id": "08972982-2542-4404-a5a5-5eb2a5087085",
   "metadata": {
    "tags": []
   },
   "outputs": [
    {
     "name": "stderr",
     "output_type": "stream",
     "text": [
      "/home/ec2-user/anaconda3/envs/python3/lib/python3.10/site-packages/statsmodels/discrete/discrete_model.py:1819: RuntimeWarning: divide by zero encountered in true_divide\n",
      "  return 1/(1+np.exp(-X))\n"
     ]
    },
    {
     "name": "stdout",
     "output_type": "stream",
     "text": [
      "Optimization terminated successfully.\n",
      "         Current function value: 0.660466\n",
      "         Iterations 5\n",
      "                          Results: Logit\n",
      "===================================================================\n",
      "Model:               Logit            Pseudo R-squared: 0.047      \n",
      "Dependent Variable:  is_claim         AIC:              101434.5405\n",
      "Date:                2023-04-14 13:43 BIC:              101545.5236\n",
      "No. Observations:    76772            Log-Likelihood:   -50705.    \n",
      "Df Model:            11               LL-Null:          -53214.    \n",
      "Df Residuals:        76760            LLR p-value:      0.0000     \n",
      "Converged:           1.0000           Scale:            1.0000     \n",
      "No. Iterations:      5.0000                                        \n",
      "-------------------------------------------------------------------\n",
      "                    Coef.  Std.Err.    z     P>|z|   [0.025  0.975]\n",
      "-------------------------------------------------------------------\n",
      "policy_tenure       0.9359   0.0182  51.4530 0.0000  0.9002  0.9715\n",
      "age_of_car         -6.2996   0.1488 -42.3336 0.0000 -6.5913 -6.0080\n",
      "population_density  0.0000   0.0000   6.6788 0.0000  0.0000  0.0000\n",
      "area_cluster_C10   -1.0353   0.0726 -14.2524 0.0000 -1.1777 -0.8929\n",
      "area_cluster_C11   -1.0400   0.0638 -16.3034 0.0000 -1.1650 -0.9150\n",
      "area_cluster_C12   -1.0443   0.0595 -17.5601 0.0000 -1.1608 -0.9277\n",
      "area_cluster_C14   -0.2466   0.0314  -7.8422 0.0000 -0.3082 -0.1849\n",
      "area_cluster_C2    -0.3078   0.0301 -10.2341 0.0000 -0.3668 -0.2489\n",
      "area_cluster_C5    -0.7640   0.0367 -20.8159 0.0000 -0.8359 -0.6920\n",
      "area_cluster_C7    -1.0535   0.0496 -21.2338 0.0000 -1.1507 -0.9562\n",
      "area_cluster_C8    -0.1541   0.0197  -7.8196 0.0000 -0.1927 -0.1154\n",
      "area_cluster_C9    -0.6473   0.0400 -16.1827 0.0000 -0.7257 -0.5689\n",
      "===================================================================\n",
      "\n"
     ]
    },
    {
     "name": "stderr",
     "output_type": "stream",
     "text": [
      "/home/ec2-user/anaconda3/envs/python3/lib/python3.10/site-packages/statsmodels/discrete/discrete_model.py:1819: RuntimeWarning: divide by zero encountered in true_divide\n",
      "  return 1/(1+np.exp(-X))\n"
     ]
    }
   ],
   "source": [
    "cols = ['policy_tenure', 'age_of_car','population_density', 'area_cluster_C10',\n",
    "       'area_cluster_C11', 'area_cluster_C12', 'area_cluster_C14', 'area_cluster_C2', 'area_cluster_C5',\n",
    "       'area_cluster_C7', 'area_cluster_C8', 'area_cluster_C9']\n",
    "X=os_data_X[cols]\n",
    "y=os_data_y['is_claim']\n",
    "\n",
    "logit_model=sm.Logit(y,X)\n",
    "result=logit_model.fit()\n",
    "print(result.summary2())"
   ]
  },
  {
   "cell_type": "code",
   "execution_count": 21,
   "id": "0310a6f6-df3b-405b-aaf9-5be92e80e317",
   "metadata": {
    "tags": []
   },
   "outputs": [
    {
     "data": {
      "text/html": [
       "<style>#sk-container-id-2 {color: black;background-color: white;}#sk-container-id-2 pre{padding: 0;}#sk-container-id-2 div.sk-toggleable {background-color: white;}#sk-container-id-2 label.sk-toggleable__label {cursor: pointer;display: block;width: 100%;margin-bottom: 0;padding: 0.3em;box-sizing: border-box;text-align: center;}#sk-container-id-2 label.sk-toggleable__label-arrow:before {content: \"▸\";float: left;margin-right: 0.25em;color: #696969;}#sk-container-id-2 label.sk-toggleable__label-arrow:hover:before {color: black;}#sk-container-id-2 div.sk-estimator:hover label.sk-toggleable__label-arrow:before {color: black;}#sk-container-id-2 div.sk-toggleable__content {max-height: 0;max-width: 0;overflow: hidden;text-align: left;background-color: #f0f8ff;}#sk-container-id-2 div.sk-toggleable__content pre {margin: 0.2em;color: black;border-radius: 0.25em;background-color: #f0f8ff;}#sk-container-id-2 input.sk-toggleable__control:checked~div.sk-toggleable__content {max-height: 200px;max-width: 100%;overflow: auto;}#sk-container-id-2 input.sk-toggleable__control:checked~label.sk-toggleable__label-arrow:before {content: \"▾\";}#sk-container-id-2 div.sk-estimator input.sk-toggleable__control:checked~label.sk-toggleable__label {background-color: #d4ebff;}#sk-container-id-2 div.sk-label input.sk-toggleable__control:checked~label.sk-toggleable__label {background-color: #d4ebff;}#sk-container-id-2 input.sk-hidden--visually {border: 0;clip: rect(1px 1px 1px 1px);clip: rect(1px, 1px, 1px, 1px);height: 1px;margin: -1px;overflow: hidden;padding: 0;position: absolute;width: 1px;}#sk-container-id-2 div.sk-estimator {font-family: monospace;background-color: #f0f8ff;border: 1px dotted black;border-radius: 0.25em;box-sizing: border-box;margin-bottom: 0.5em;}#sk-container-id-2 div.sk-estimator:hover {background-color: #d4ebff;}#sk-container-id-2 div.sk-parallel-item::after {content: \"\";width: 100%;border-bottom: 1px solid gray;flex-grow: 1;}#sk-container-id-2 div.sk-label:hover label.sk-toggleable__label {background-color: #d4ebff;}#sk-container-id-2 div.sk-serial::before {content: \"\";position: absolute;border-left: 1px solid gray;box-sizing: border-box;top: 0;bottom: 0;left: 50%;z-index: 0;}#sk-container-id-2 div.sk-serial {display: flex;flex-direction: column;align-items: center;background-color: white;padding-right: 0.2em;padding-left: 0.2em;position: relative;}#sk-container-id-2 div.sk-item {position: relative;z-index: 1;}#sk-container-id-2 div.sk-parallel {display: flex;align-items: stretch;justify-content: center;background-color: white;position: relative;}#sk-container-id-2 div.sk-item::before, #sk-container-id-2 div.sk-parallel-item::before {content: \"\";position: absolute;border-left: 1px solid gray;box-sizing: border-box;top: 0;bottom: 0;left: 50%;z-index: -1;}#sk-container-id-2 div.sk-parallel-item {display: flex;flex-direction: column;z-index: 1;position: relative;background-color: white;}#sk-container-id-2 div.sk-parallel-item:first-child::after {align-self: flex-end;width: 50%;}#sk-container-id-2 div.sk-parallel-item:last-child::after {align-self: flex-start;width: 50%;}#sk-container-id-2 div.sk-parallel-item:only-child::after {width: 0;}#sk-container-id-2 div.sk-dashed-wrapped {border: 1px dashed gray;margin: 0 0.4em 0.5em 0.4em;box-sizing: border-box;padding-bottom: 0.4em;background-color: white;}#sk-container-id-2 div.sk-label label {font-family: monospace;font-weight: bold;display: inline-block;line-height: 1.2em;}#sk-container-id-2 div.sk-label-container {text-align: center;}#sk-container-id-2 div.sk-container {/* jupyter's `normalize.less` sets `[hidden] { display: none; }` but bootstrap.min.css set `[hidden] { display: none !important; }` so we also need the `!important` here to be able to override the default hidden behavior on the sphinx rendered scikit-learn.org. See: https://github.com/scikit-learn/scikit-learn/issues/21755 */display: inline-block !important;position: relative;}#sk-container-id-2 div.sk-text-repr-fallback {display: none;}</style><div id=\"sk-container-id-2\" class=\"sk-top-container\"><div class=\"sk-text-repr-fallback\"><pre>LogisticRegression()</pre><b>In a Jupyter environment, please rerun this cell to show the HTML representation or trust the notebook. <br />On GitHub, the HTML representation is unable to render, please try loading this page with nbviewer.org.</b></div><div class=\"sk-container\" hidden><div class=\"sk-item\"><div class=\"sk-estimator sk-toggleable\"><input class=\"sk-toggleable__control sk-hidden--visually\" id=\"sk-estimator-id-2\" type=\"checkbox\" checked><label for=\"sk-estimator-id-2\" class=\"sk-toggleable__label sk-toggleable__label-arrow\">LogisticRegression</label><div class=\"sk-toggleable__content\"><pre>LogisticRegression()</pre></div></div></div></div></div>"
      ],
      "text/plain": [
       "LogisticRegression()"
      ]
     },
     "execution_count": 21,
     "metadata": {},
     "output_type": "execute_result"
    }
   ],
   "source": [
    "# Build a model with the selected features\n",
    "\n",
    "X_train, X_test, y_train, y_test = train_test_split(X, y, test_size=0.3, random_state=0)\n",
    "\n",
    "logreg = LogisticRegression()\n",
    "logreg.fit(X_train, y_train)"
   ]
  },
  {
   "cell_type": "code",
   "execution_count": 22,
   "id": "81692fa9-a43b-4be5-a464-a85f74e71709",
   "metadata": {
    "tags": []
   },
   "outputs": [
    {
     "name": "stdout",
     "output_type": "stream",
     "text": [
      "Accuracy of logistic regression classifier on test set: 0.50\n"
     ]
    }
   ],
   "source": [
    "y_pred = logreg.predict(X_test)\n",
    "print('Accuracy of logistic regression classifier on test set: {:.2f}'.format(logreg.score(X_test, y_test)))"
   ]
  },
  {
   "cell_type": "code",
   "execution_count": 23,
   "id": "e55ac106-625a-45f4-a07a-388581118a38",
   "metadata": {
    "tags": []
   },
   "outputs": [
    {
     "name": "stdout",
     "output_type": "stream",
     "text": [
      "[[11446     0]\n",
      " [11586     0]]\n"
     ]
    }
   ],
   "source": [
    "confusion_matrix = confusion_matrix(y_test, y_pred)\n",
    "print(confusion_matrix)"
   ]
  },
  {
   "cell_type": "code",
   "execution_count": 24,
   "id": "6e58e563-d072-48f2-ba6d-318664bf113a",
   "metadata": {
    "tags": []
   },
   "outputs": [
    {
     "name": "stdout",
     "output_type": "stream",
     "text": [
      "              precision    recall  f1-score   support\n",
      "\n",
      "           0       0.50      1.00      0.66     11446\n",
      "           1       0.00      0.00      0.00     11586\n",
      "\n",
      "    accuracy                           0.50     23032\n",
      "   macro avg       0.25      0.50      0.33     23032\n",
      "weighted avg       0.25      0.50      0.33     23032\n",
      "\n"
     ]
    },
    {
     "name": "stderr",
     "output_type": "stream",
     "text": [
      "/home/ec2-user/anaconda3/envs/python3/lib/python3.10/site-packages/sklearn/metrics/_classification.py:1344: UndefinedMetricWarning: Precision and F-score are ill-defined and being set to 0.0 in labels with no predicted samples. Use `zero_division` parameter to control this behavior.\n",
      "  _warn_prf(average, modifier, msg_start, len(result))\n",
      "/home/ec2-user/anaconda3/envs/python3/lib/python3.10/site-packages/sklearn/metrics/_classification.py:1344: UndefinedMetricWarning: Precision and F-score are ill-defined and being set to 0.0 in labels with no predicted samples. Use `zero_division` parameter to control this behavior.\n",
      "  _warn_prf(average, modifier, msg_start, len(result))\n",
      "/home/ec2-user/anaconda3/envs/python3/lib/python3.10/site-packages/sklearn/metrics/_classification.py:1344: UndefinedMetricWarning: Precision and F-score are ill-defined and being set to 0.0 in labels with no predicted samples. Use `zero_division` parameter to control this behavior.\n",
      "  _warn_prf(average, modifier, msg_start, len(result))\n"
     ]
    }
   ],
   "source": [
    "print(classification_report(y_test, y_pred))"
   ]
  },
  {
   "cell_type": "markdown",
   "id": "84aebc68-fdba-4644-aac2-b6dc6b2756aa",
   "metadata": {},
   "source": [
    "SUMMARY: A logistic regression model does poorly at predicting the \"is_claim\" target variable. Also, when looking at p-values for feature selection, it appears tha the majority of values do not show an indication of contributing to the outcome varible in this type of model."
   ]
  },
  {
   "cell_type": "markdown",
   "id": "5cb2976c-0229-4126-890f-7946e80a9760",
   "metadata": {},
   "source": [
    "## XGBoost Model"
   ]
  },
  {
   "cell_type": "markdown",
   "id": "d8f4ab22-e5f6-4462-8df3-c887f3710c7d",
   "metadata": {
    "tags": []
   },
   "source": [
    "### Initial Model"
   ]
  },
  {
   "cell_type": "code",
   "execution_count": 25,
   "id": "299872be-7121-41fe-8f14-72be2c7441d1",
   "metadata": {
    "tags": []
   },
   "outputs": [],
   "source": [
    "xgb_train = pd.DataFrame(y_train).join(X_train)\n",
    "xgb_train.rename(columns={\"is_claim\": \"label\"}, inplace = True)\n",
    "xgb_train.dtypes\n",
    "\n",
    "xgb_validate = pd.DataFrame(y_test).join(X_test)\n",
    "xgb_validate.rename(columns={\"is_claim\": \"label\"}, inplace = True)"
   ]
  },
  {
   "cell_type": "code",
   "execution_count": 26,
   "id": "b1c3e632-d32b-4cd8-9168-0fa96d20e5e5",
   "metadata": {
    "tags": []
   },
   "outputs": [],
   "source": [
    "### write training and validation data to s3 bucket to be read by sagemaker model \n",
    "# xgb_train.to_csv(\"s3://techexcellence.ml.project.team3/scaledTrainingData\", index = False, header = False)\n",
    "# xgb_validate.to_csv(\"s3://techexcellence.ml.project.team3/scaledValidateData\", index = False, header = False)"
   ]
  },
  {
   "cell_type": "markdown",
   "id": "6a9e84d3-a0f7-4039-9ac2-c3b1389509b4",
   "metadata": {},
   "source": [
    "### Build Model"
   ]
  },
  {
   "cell_type": "code",
   "execution_count": 27,
   "id": "517434b9-66bd-497b-b54c-6e75bea0a723",
   "metadata": {
    "tags": []
   },
   "outputs": [
    {
     "name": "stderr",
     "output_type": "stream",
     "text": [
      "train_instance_count has been renamed in sagemaker>=2.\n",
      "See: https://sagemaker.readthedocs.io/en/stable/v2.html for details.\n",
      "train_instance_type has been renamed in sagemaker>=2.\n",
      "See: https://sagemaker.readthedocs.io/en/stable/v2.html for details.\n"
     ]
    }
   ],
   "source": [
    "my_region = boto3.session.Session().region_name\n",
    "sess = sagemaker.Session()\n",
    "role = get_execution_role()\n",
    "xgboost_container = sagemaker.image_uris.retrieve(\"xgboost\", my_region, \"latest\")\n",
    "\n",
    "\n",
    "xgb = sagemaker.estimator.Estimator(xgboost_container,\n",
    "                                    role, \n",
    "                                    train_instance_count=1, \n",
    "                                    train_instance_type='ml.m4.xlarge',\n",
    "                                    sagemaker_session=sess)"
   ]
  },
  {
   "cell_type": "code",
   "execution_count": 28,
   "id": "5a01f0a7-72fd-4bdd-bc36-7a84b159c85b",
   "metadata": {
    "tags": []
   },
   "outputs": [],
   "source": [
    "s3_input_train = sagemaker.TrainingInput(s3_data='s3://techexcellence.ml.project.team3/scaledTrainingData', content_type='csv')\n",
    "s3_input_validate = sagemaker.TrainingInput(s3_data='s3://techexcellence.ml.project.team3/scaledValidateData', content_type='csv')"
   ]
  },
  {
   "cell_type": "code",
   "execution_count": 29,
   "id": "0b46d6b8-fdec-49ae-9a0d-dc55db622e21",
   "metadata": {
    "collapsed": true,
    "jupyter": {
     "outputs_hidden": true
    },
    "tags": []
   },
   "outputs": [
    {
     "name": "stderr",
     "output_type": "stream",
     "text": [
      "INFO:sagemaker:Creating training-job with name: xgboost-2023-04-14-13-43-38-878\n"
     ]
    },
    {
     "name": "stdout",
     "output_type": "stream",
     "text": [
      "2023-04-14 13:43:39 Starting - Starting the training job......\n",
      "2023-04-14 13:44:15 Starting - Preparing the instances for training......\n",
      "2023-04-14 13:45:30 Downloading - Downloading input data......\n",
      "2023-04-14 13:46:15 Training - Downloading the training image...\n",
      "2023-04-14 13:46:51 Training - Training image download completed. Training in progress.\u001b[34mArguments: train\u001b[0m\n",
      "\u001b[34m[2023-04-14:13:47:04:INFO] Running standalone xgboost training.\u001b[0m\n",
      "\u001b[34m[2023-04-14:13:47:04:INFO] Path /opt/ml/input/data/validation does not exist!\u001b[0m\n",
      "\u001b[34m[2023-04-14:13:47:04:INFO] File size need to be processed in the node: 145.39mb. Available memory size in the node: 8597.07mb\u001b[0m\n",
      "\u001b[34m[2023-04-14:13:47:04:INFO] Determined delimiter of CSV input is ','\u001b[0m\n",
      "\u001b[34m[13:47:04] S3DistributionType set as FullyReplicated\u001b[0m\n",
      "\u001b[34m[13:47:04] 87762x87 matrix with 7635294 entries loaded from /opt/ml/input/data/train?format=csv&label_column=0&delimiter=,\u001b[0m\n",
      "\u001b[34m[13:47:04] src/tree/updater_prune.cc:74: tree pruning end, 1 roots, 48 extra nodes, 2 pruned nodes, max_depth=5\u001b[0m\n",
      "\u001b[34m[0]#011train-error:0.351245\u001b[0m\n",
      "\u001b[34m[13:47:05] src/tree/updater_prune.cc:74: tree pruning end, 1 roots, 52 extra nodes, 0 pruned nodes, max_depth=5\u001b[0m\n",
      "\u001b[34m[1]#011train-error:0.329847\u001b[0m\n",
      "\u001b[34m[13:47:05] src/tree/updater_prune.cc:74: tree pruning end, 1 roots, 56 extra nodes, 0 pruned nodes, max_depth=5\u001b[0m\n",
      "\u001b[34m[2]#011train-error:0.315307\u001b[0m\n",
      "\u001b[34m[13:47:05] src/tree/updater_prune.cc:74: tree pruning end, 1 roots, 52 extra nodes, 4 pruned nodes, max_depth=5\u001b[0m\n",
      "\u001b[34m[3]#011train-error:0.309063\u001b[0m\n",
      "\u001b[34m[13:47:05] src/tree/updater_prune.cc:74: tree pruning end, 1 roots, 46 extra nodes, 6 pruned nodes, max_depth=5\u001b[0m\n",
      "\u001b[34m[4]#011train-error:0.288394\u001b[0m\n",
      "\u001b[34m[13:47:05] src/tree/updater_prune.cc:74: tree pruning end, 1 roots, 46 extra nodes, 2 pruned nodes, max_depth=5\u001b[0m\n",
      "\u001b[34m[5]#011train-error:0.272601\u001b[0m\n",
      "\u001b[34m[13:47:05] src/tree/updater_prune.cc:74: tree pruning end, 1 roots, 44 extra nodes, 2 pruned nodes, max_depth=5\u001b[0m\n",
      "\u001b[34m[6]#011train-error:0.263257\u001b[0m\n",
      "\u001b[34m[13:47:06] src/tree/updater_prune.cc:74: tree pruning end, 1 roots, 20 extra nodes, 14 pruned nodes, max_depth=5\u001b[0m\n",
      "\u001b[34m[7]#011train-error:0.259258\u001b[0m\n",
      "\u001b[34m[13:47:06] src/tree/updater_prune.cc:74: tree pruning end, 1 roots, 44 extra nodes, 0 pruned nodes, max_depth=5\u001b[0m\n",
      "\u001b[34m[8]#011train-error:0.244912\u001b[0m\n",
      "\u001b[34m[13:47:06] src/tree/updater_prune.cc:74: tree pruning end, 1 roots, 50 extra nodes, 6 pruned nodes, max_depth=5\u001b[0m\n",
      "\u001b[34m[9]#011train-error:0.228436\u001b[0m\n",
      "\u001b[34m[13:47:06] src/tree/updater_prune.cc:74: tree pruning end, 1 roots, 40 extra nodes, 0 pruned nodes, max_depth=5\u001b[0m\n",
      "\u001b[34m[10]#011train-error:0.205602\u001b[0m\n",
      "\u001b[34m[13:47:07] src/tree/updater_prune.cc:74: tree pruning end, 1 roots, 48 extra nodes, 4 pruned nodes, max_depth=5\u001b[0m\n",
      "\u001b[34m[11]#011train-error:0.195027\u001b[0m\n",
      "\u001b[34m[13:47:07] src/tree/updater_prune.cc:74: tree pruning end, 1 roots, 38 extra nodes, 10 pruned nodes, max_depth=5\u001b[0m\n",
      "\u001b[34m[12]#011train-error:0.187952\u001b[0m\n",
      "\u001b[34m[13:47:07] src/tree/updater_prune.cc:74: tree pruning end, 1 roots, 24 extra nodes, 6 pruned nodes, max_depth=5\u001b[0m\n",
      "\u001b[34m[13]#011train-error:0.186858\u001b[0m\n",
      "\u001b[34m[13:47:07] src/tree/updater_prune.cc:74: tree pruning end, 1 roots, 42 extra nodes, 4 pruned nodes, max_depth=5\u001b[0m\n",
      "\u001b[34m[14]#011train-error:0.171247\u001b[0m\n",
      "\u001b[34m[13:47:08] src/tree/updater_prune.cc:74: tree pruning end, 1 roots, 42 extra nodes, 2 pruned nodes, max_depth=5\u001b[0m\n",
      "\u001b[34m[15]#011train-error:0.171361\u001b[0m\n",
      "\u001b[34m[13:47:08] src/tree/updater_prune.cc:74: tree pruning end, 1 roots, 38 extra nodes, 8 pruned nodes, max_depth=5\u001b[0m\n",
      "\u001b[34m[16]#011train-error:0.169891\u001b[0m\n",
      "\u001b[34m[13:47:08] src/tree/updater_prune.cc:74: tree pruning end, 1 roots, 34 extra nodes, 6 pruned nodes, max_depth=5\u001b[0m\n",
      "\u001b[34m[17]#011train-error:0.159796\u001b[0m\n",
      "\u001b[34m[13:47:08] src/tree/updater_prune.cc:74: tree pruning end, 1 roots, 40 extra nodes, 4 pruned nodes, max_depth=5\u001b[0m\n",
      "\u001b[34m[18]#011train-error:0.153198\u001b[0m\n",
      "\u001b[34m[13:47:08] src/tree/updater_prune.cc:74: tree pruning end, 1 roots, 46 extra nodes, 4 pruned nodes, max_depth=5\u001b[0m\n",
      "\u001b[34m[19]#011train-error:0.139195\u001b[0m\n",
      "\u001b[34m[13:47:08] src/tree/updater_prune.cc:74: tree pruning end, 1 roots, 34 extra nodes, 6 pruned nodes, max_depth=5\u001b[0m\n",
      "\u001b[34m[20]#011train-error:0.138978\u001b[0m\n",
      "\u001b[34m[13:47:08] src/tree/updater_prune.cc:74: tree pruning end, 1 roots, 50 extra nodes, 0 pruned nodes, max_depth=5\u001b[0m\n",
      "\u001b[34m[21]#011train-error:0.136597\u001b[0m\n",
      "\u001b[34m[13:47:09] src/tree/updater_prune.cc:74: tree pruning end, 1 roots, 22 extra nodes, 10 pruned nodes, max_depth=5\u001b[0m\n",
      "\u001b[34m[22]#011train-error:0.130512\u001b[0m\n",
      "\u001b[34m[13:47:09] src/tree/updater_prune.cc:74: tree pruning end, 1 roots, 28 extra nodes, 6 pruned nodes, max_depth=5\u001b[0m\n",
      "\u001b[34m[23]#011train-error:0.126091\u001b[0m\n",
      "\u001b[34m[13:47:09] src/tree/updater_prune.cc:74: tree pruning end, 1 roots, 40 extra nodes, 0 pruned nodes, max_depth=5\u001b[0m\n",
      "\u001b[34m[24]#011train-error:0.126889\u001b[0m\n",
      "\u001b[34m[13:47:09] src/tree/updater_prune.cc:74: tree pruning end, 1 roots, 34 extra nodes, 6 pruned nodes, max_depth=5\u001b[0m\n",
      "\u001b[34m[25]#011train-error:0.124929\u001b[0m\n",
      "\u001b[34m[13:47:09] src/tree/updater_prune.cc:74: tree pruning end, 1 roots, 34 extra nodes, 2 pruned nodes, max_depth=5\u001b[0m\n",
      "\u001b[34m[26]#011train-error:0.123869\u001b[0m\n",
      "\u001b[34m[13:47:09] src/tree/updater_prune.cc:74: tree pruning end, 1 roots, 32 extra nodes, 12 pruned nodes, max_depth=5\u001b[0m\n",
      "\u001b[34m[27]#011train-error:0.121043\u001b[0m\n",
      "\u001b[34m[13:47:10] src/tree/updater_prune.cc:74: tree pruning end, 1 roots, 30 extra nodes, 6 pruned nodes, max_depth=5\u001b[0m\n",
      "\u001b[34m[28]#011train-error:0.116793\u001b[0m\n",
      "\u001b[34m[13:47:10] src/tree/updater_prune.cc:74: tree pruning end, 1 roots, 24 extra nodes, 4 pruned nodes, max_depth=5\u001b[0m\n",
      "\u001b[34m[29]#011train-error:0.116372\u001b[0m\n",
      "\u001b[34m[13:47:10] src/tree/updater_prune.cc:74: tree pruning end, 1 roots, 24 extra nodes, 10 pruned nodes, max_depth=5\u001b[0m\n",
      "\u001b[34m[30]#011train-error:0.114002\u001b[0m\n",
      "\u001b[34m[13:47:10] src/tree/updater_prune.cc:74: tree pruning end, 1 roots, 34 extra nodes, 2 pruned nodes, max_depth=5\u001b[0m\n",
      "\u001b[34m[31]#011train-error:0.114526\u001b[0m\n",
      "\u001b[34m[13:47:10] src/tree/updater_prune.cc:74: tree pruning end, 1 roots, 36 extra nodes, 8 pruned nodes, max_depth=5\u001b[0m\n",
      "\u001b[34m[32]#011train-error:0.114423\u001b[0m\n",
      "\u001b[34m[13:47:10] src/tree/updater_prune.cc:74: tree pruning end, 1 roots, 44 extra nodes, 4 pruned nodes, max_depth=5\u001b[0m\n",
      "\u001b[34m[33]#011train-error:0.108885\u001b[0m\n",
      "\u001b[34m[13:47:10] src/tree/updater_prune.cc:74: tree pruning end, 1 roots, 20 extra nodes, 10 pruned nodes, max_depth=5\u001b[0m\n",
      "\u001b[34m[34]#011train-error:0.104066\u001b[0m\n",
      "\u001b[34m[13:47:11] src/tree/updater_prune.cc:74: tree pruning end, 1 roots, 38 extra nodes, 0 pruned nodes, max_depth=5\u001b[0m\n",
      "\u001b[34m[35]#011train-error:0.104145\u001b[0m\n",
      "\u001b[34m[13:47:11] src/tree/updater_prune.cc:74: tree pruning end, 1 roots, 24 extra nodes, 2 pruned nodes, max_depth=5\u001b[0m\n",
      "\u001b[34m[36]#011train-error:0.103803\u001b[0m\n",
      "\u001b[34m[13:47:11] src/tree/updater_prune.cc:74: tree pruning end, 1 roots, 34 extra nodes, 6 pruned nodes, max_depth=5\u001b[0m\n",
      "\u001b[34m[37]#011train-error:0.103826\u001b[0m\n",
      "\u001b[34m[13:47:11] src/tree/updater_prune.cc:74: tree pruning end, 1 roots, 40 extra nodes, 2 pruned nodes, max_depth=5\u001b[0m\n",
      "\u001b[34m[38]#011train-error:0.102983\u001b[0m\n",
      "\u001b[34m[13:47:11] src/tree/updater_prune.cc:74: tree pruning end, 1 roots, 50 extra nodes, 2 pruned nodes, max_depth=5\u001b[0m\n",
      "\u001b[34m[39]#011train-error:0.102106\u001b[0m\n",
      "\u001b[34m[13:47:11] src/tree/updater_prune.cc:74: tree pruning end, 1 roots, 34 extra nodes, 6 pruned nodes, max_depth=5\u001b[0m\n",
      "\u001b[34m[40]#011train-error:0.102117\u001b[0m\n",
      "\u001b[34m[13:47:12] src/tree/updater_prune.cc:74: tree pruning end, 1 roots, 32 extra nodes, 4 pruned nodes, max_depth=5\u001b[0m\n",
      "\u001b[34m[41]#011train-error:0.10198\u001b[0m\n",
      "\u001b[34m[13:47:12] src/tree/updater_prune.cc:74: tree pruning end, 1 roots, 34 extra nodes, 6 pruned nodes, max_depth=5\u001b[0m\n",
      "\u001b[34m[42]#011train-error:0.101718\u001b[0m\n",
      "\u001b[34m[13:47:12] src/tree/updater_prune.cc:74: tree pruning end, 1 roots, 42 extra nodes, 2 pruned nodes, max_depth=5\u001b[0m\n",
      "\u001b[34m[43]#011train-error:0.100567\u001b[0m\n",
      "\u001b[34m[13:47:12] src/tree/updater_prune.cc:74: tree pruning end, 1 roots, 36 extra nodes, 10 pruned nodes, max_depth=5\u001b[0m\n",
      "\u001b[34m[44]#011train-error:0.101137\u001b[0m\n",
      "\u001b[34m[13:47:12] src/tree/updater_prune.cc:74: tree pruning end, 1 roots, 42 extra nodes, 8 pruned nodes, max_depth=5\u001b[0m\n",
      "\u001b[34m[45]#011train-error:0.10051\u001b[0m\n",
      "\u001b[34m[13:47:12] src/tree/updater_prune.cc:74: tree pruning end, 1 roots, 38 extra nodes, 0 pruned nodes, max_depth=5\u001b[0m\n",
      "\u001b[34m[46]#011train-error:0.100659\u001b[0m\n",
      "\u001b[34m[13:47:13] src/tree/updater_prune.cc:74: tree pruning end, 1 roots, 18 extra nodes, 12 pruned nodes, max_depth=5\u001b[0m\n",
      "\u001b[34m[47]#011train-error:0.100545\u001b[0m\n",
      "\u001b[34m[13:47:13] src/tree/updater_prune.cc:74: tree pruning end, 1 roots, 26 extra nodes, 12 pruned nodes, max_depth=5\u001b[0m\n",
      "\u001b[34m[48]#011train-error:0.099519\u001b[0m\n",
      "\u001b[34m[13:47:13] src/tree/updater_prune.cc:74: tree pruning end, 1 roots, 40 extra nodes, 0 pruned nodes, max_depth=5\u001b[0m\n",
      "\u001b[34m[49]#011train-error:0.099143\u001b[0m\n",
      "\u001b[34m[13:47:13] src/tree/updater_prune.cc:74: tree pruning end, 1 roots, 38 extra nodes, 2 pruned nodes, max_depth=5\u001b[0m\n",
      "\u001b[34m[50]#011train-error:0.099519\u001b[0m\n",
      "\u001b[34m[13:47:13] src/tree/updater_prune.cc:74: tree pruning end, 1 roots, 32 extra nodes, 2 pruned nodes, max_depth=5\u001b[0m\n",
      "\u001b[34m[51]#011train-error:0.099474\u001b[0m\n",
      "\u001b[34m[13:47:13] src/tree/updater_prune.cc:74: tree pruning end, 1 roots, 24 extra nodes, 8 pruned nodes, max_depth=5\u001b[0m\n",
      "\u001b[34m[52]#011train-error:0.098232\u001b[0m\n",
      "\u001b[34m[13:47:13] src/tree/updater_prune.cc:74: tree pruning end, 1 roots, 40 extra nodes, 0 pruned nodes, max_depth=5\u001b[0m\n",
      "\u001b[34m[53]#011train-error:0.098608\u001b[0m\n",
      "\u001b[34m[13:47:14] src/tree/updater_prune.cc:74: tree pruning end, 1 roots, 40 extra nodes, 0 pruned nodes, max_depth=5\u001b[0m\n",
      "\u001b[34m[54]#011train-error:0.098346\u001b[0m\n",
      "\u001b[34m[13:47:14] src/tree/updater_prune.cc:74: tree pruning end, 1 roots, 46 extra nodes, 2 pruned nodes, max_depth=5\u001b[0m\n",
      "\u001b[34m[55]#011train-error:0.098311\u001b[0m\n",
      "\u001b[34m[13:47:14] src/tree/updater_prune.cc:74: tree pruning end, 1 roots, 32 extra nodes, 2 pruned nodes, max_depth=5\u001b[0m\n",
      "\u001b[34m[56]#011train-error:0.098425\u001b[0m\n",
      "\u001b[34m[13:47:14] src/tree/updater_prune.cc:74: tree pruning end, 1 roots, 28 extra nodes, 6 pruned nodes, max_depth=5\u001b[0m\n",
      "\u001b[34m[57]#011train-error:0.098186\u001b[0m\n",
      "\u001b[34m[13:47:14] src/tree/updater_prune.cc:74: tree pruning end, 1 roots, 40 extra nodes, 10 pruned nodes, max_depth=5\u001b[0m\n",
      "\u001b[34m[58]#011train-error:0.09781\u001b[0m\n",
      "\u001b[34m[13:47:14] src/tree/updater_prune.cc:74: tree pruning end, 1 roots, 40 extra nodes, 8 pruned nodes, max_depth=5\u001b[0m\n",
      "\u001b[34m[59]#011train-error:0.097821\u001b[0m\n",
      "\u001b[34m[13:47:15] src/tree/updater_prune.cc:74: tree pruning end, 1 roots, 36 extra nodes, 6 pruned nodes, max_depth=5\u001b[0m\n",
      "\u001b[34m[60]#011train-error:0.096579\u001b[0m\n",
      "\u001b[34m[13:47:15] src/tree/updater_prune.cc:74: tree pruning end, 1 roots, 32 extra nodes, 0 pruned nodes, max_depth=5\u001b[0m\n",
      "\u001b[34m[61]#011train-error:0.095645\u001b[0m\n",
      "\u001b[34m[13:47:15] src/tree/updater_prune.cc:74: tree pruning end, 1 roots, 28 extra nodes, 8 pruned nodes, max_depth=5\u001b[0m\n",
      "\u001b[34m[62]#011train-error:0.095577\u001b[0m\n",
      "\u001b[34m[13:47:15] src/tree/updater_prune.cc:74: tree pruning end, 1 roots, 24 extra nodes, 12 pruned nodes, max_depth=5\u001b[0m\n",
      "\u001b[34m[63]#011train-error:0.094551\u001b[0m\n",
      "\u001b[34m[13:47:15] src/tree/updater_prune.cc:74: tree pruning end, 1 roots, 34 extra nodes, 6 pruned nodes, max_depth=5\u001b[0m\n",
      "\u001b[34m[64]#011train-error:0.094654\u001b[0m\n",
      "\u001b[34m[13:47:15] src/tree/updater_prune.cc:74: tree pruning end, 1 roots, 34 extra nodes, 4 pruned nodes, max_depth=5\u001b[0m\n",
      "\u001b[34m[65]#011train-error:0.09462\u001b[0m\n",
      "\u001b[34m[13:47:15] src/tree/updater_prune.cc:74: tree pruning end, 1 roots, 26 extra nodes, 4 pruned nodes, max_depth=5\u001b[0m\n",
      "\u001b[34m[66]#011train-error:0.093719\u001b[0m\n",
      "\u001b[34m[13:47:16] src/tree/updater_prune.cc:74: tree pruning end, 1 roots, 30 extra nodes, 8 pruned nodes, max_depth=5\u001b[0m\n",
      "\u001b[34m[67]#011train-error:0.09168\u001b[0m\n",
      "\u001b[34m[13:47:16] src/tree/updater_prune.cc:74: tree pruning end, 1 roots, 24 extra nodes, 4 pruned nodes, max_depth=5\u001b[0m\n",
      "\u001b[34m[68]#011train-error:0.091475\u001b[0m\n",
      "\u001b[34m[13:47:16] src/tree/updater_prune.cc:74: tree pruning end, 1 roots, 26 extra nodes, 8 pruned nodes, max_depth=5\u001b[0m\n",
      "\u001b[34m[69]#011train-error:0.090859\u001b[0m\n",
      "\u001b[34m[13:47:16] src/tree/updater_prune.cc:74: tree pruning end, 1 roots, 40 extra nodes, 6 pruned nodes, max_depth=5\u001b[0m\n",
      "\u001b[34m[70]#011train-error:0.088968\u001b[0m\n",
      "\u001b[34m[13:47:16] src/tree/updater_prune.cc:74: tree pruning end, 1 roots, 28 extra nodes, 4 pruned nodes, max_depth=5\u001b[0m\n",
      "\u001b[34m[71]#011train-error:0.087065\u001b[0m\n",
      "\u001b[34m[13:47:16] src/tree/updater_prune.cc:74: tree pruning end, 1 roots, 22 extra nodes, 14 pruned nodes, max_depth=5\u001b[0m\n",
      "\u001b[34m[72]#011train-error:0.086393\u001b[0m\n",
      "\u001b[34m[13:47:17] src/tree/updater_prune.cc:74: tree pruning end, 1 roots, 42 extra nodes, 8 pruned nodes, max_depth=5\u001b[0m\n",
      "\u001b[34m[73]#011train-error:0.08629\u001b[0m\n",
      "\u001b[34m[13:47:17] src/tree/updater_prune.cc:74: tree pruning end, 1 roots, 44 extra nodes, 0 pruned nodes, max_depth=5\u001b[0m\n",
      "\u001b[34m[74]#011train-error:0.085777\u001b[0m\n",
      "\u001b[34m[13:47:17] src/tree/updater_prune.cc:74: tree pruning end, 1 roots, 32 extra nodes, 4 pruned nodes, max_depth=5\u001b[0m\n",
      "\u001b[34m[75]#011train-error:0.085048\u001b[0m\n",
      "\u001b[34m[13:47:17] src/tree/updater_prune.cc:74: tree pruning end, 1 roots, 30 extra nodes, 4 pruned nodes, max_depth=5\u001b[0m\n",
      "\u001b[34m[76]#011train-error:0.085208\u001b[0m\n",
      "\u001b[34m[13:47:17] src/tree/updater_prune.cc:74: tree pruning end, 1 roots, 34 extra nodes, 2 pruned nodes, max_depth=5\u001b[0m\n",
      "\u001b[34m[77]#011train-error:0.085037\u001b[0m\n",
      "\u001b[34m[13:47:17] src/tree/updater_prune.cc:74: tree pruning end, 1 roots, 36 extra nodes, 8 pruned nodes, max_depth=5\u001b[0m\n",
      "\u001b[34m[78]#011train-error:0.082724\u001b[0m\n",
      "\u001b[34m[13:47:18] src/tree/updater_prune.cc:74: tree pruning end, 1 roots, 34 extra nodes, 6 pruned nodes, max_depth=5\u001b[0m\n",
      "\u001b[34m[79]#011train-error:0.08008\u001b[0m\n",
      "\u001b[34m[13:47:18] src/tree/updater_prune.cc:74: tree pruning end, 1 roots, 30 extra nodes, 6 pruned nodes, max_depth=5\u001b[0m\n",
      "\u001b[34m[80]#011train-error:0.079909\u001b[0m\n",
      "\u001b[34m[13:47:18] src/tree/updater_prune.cc:74: tree pruning end, 1 roots, 36 extra nodes, 2 pruned nodes, max_depth=5\u001b[0m\n",
      "\u001b[34m[81]#011train-error:0.079978\u001b[0m\n",
      "\u001b[34m[13:47:18] src/tree/updater_prune.cc:74: tree pruning end, 1 roots, 30 extra nodes, 16 pruned nodes, max_depth=5\u001b[0m\n",
      "\u001b[34m[82]#011train-error:0.077243\u001b[0m\n",
      "\u001b[34m[13:47:18] src/tree/updater_prune.cc:74: tree pruning end, 1 roots, 32 extra nodes, 6 pruned nodes, max_depth=5\u001b[0m\n",
      "\u001b[34m[83]#011train-error:0.075568\u001b[0m\n",
      "\u001b[34m[13:47:18] src/tree/updater_prune.cc:74: tree pruning end, 1 roots, 20 extra nodes, 10 pruned nodes, max_depth=5\u001b[0m\n",
      "\u001b[34m[84]#011train-error:0.075181\u001b[0m\n",
      "\u001b[34m[13:47:18] src/tree/updater_prune.cc:74: tree pruning end, 1 roots, 30 extra nodes, 8 pruned nodes, max_depth=5\u001b[0m\n",
      "\u001b[34m[85]#011train-error:0.074394\u001b[0m\n",
      "\u001b[34m[13:47:19] src/tree/updater_prune.cc:74: tree pruning end, 1 roots, 44 extra nodes, 8 pruned nodes, max_depth=5\u001b[0m\n",
      "\u001b[34m[86]#011train-error:0.07338\u001b[0m\n",
      "\u001b[34m[13:47:19] src/tree/updater_prune.cc:74: tree pruning end, 1 roots, 26 extra nodes, 14 pruned nodes, max_depth=5\u001b[0m\n",
      "\u001b[34m[87]#011train-error:0.070429\u001b[0m\n",
      "\u001b[34m[13:47:19] src/tree/updater_prune.cc:74: tree pruning end, 1 roots, 26 extra nodes, 4 pruned nodes, max_depth=5\u001b[0m\n",
      "\u001b[34m[88]#011train-error:0.069073\u001b[0m\n",
      "\u001b[34m[13:47:19] src/tree/updater_prune.cc:74: tree pruning end, 1 roots, 38 extra nodes, 14 pruned nodes, max_depth=5\u001b[0m\n",
      "\u001b[34m[89]#011train-error:0.068766\u001b[0m\n",
      "\u001b[34m[13:47:19] src/tree/updater_prune.cc:74: tree pruning end, 1 roots, 18 extra nodes, 12 pruned nodes, max_depth=5\u001b[0m\n",
      "\u001b[34m[90]#011train-error:0.068674\u001b[0m\n",
      "\u001b[34m[13:47:19] src/tree/updater_prune.cc:74: tree pruning end, 1 roots, 28 extra nodes, 12 pruned nodes, max_depth=5\u001b[0m\n",
      "\u001b[34m[91]#011train-error:0.067353\u001b[0m\n",
      "\u001b[34m[13:47:20] src/tree/updater_prune.cc:74: tree pruning end, 1 roots, 28 extra nodes, 8 pruned nodes, max_depth=5\u001b[0m\n",
      "\u001b[34m[92]#011train-error:0.066361\u001b[0m\n",
      "\u001b[34m[13:47:20] src/tree/updater_prune.cc:74: tree pruning end, 1 roots, 30 extra nodes, 6 pruned nodes, max_depth=5\u001b[0m\n",
      "\u001b[34m[93]#011train-error:0.064458\u001b[0m\n",
      "\u001b[34m[13:47:20] src/tree/updater_prune.cc:74: tree pruning end, 1 roots, 32 extra nodes, 4 pruned nodes, max_depth=5\u001b[0m\n",
      "\u001b[34m[94]#011train-error:0.062134\u001b[0m\n",
      "\u001b[34m[13:47:20] src/tree/updater_prune.cc:74: tree pruning end, 1 roots, 22 extra nodes, 10 pruned nodes, max_depth=5\u001b[0m\n",
      "\u001b[34m[95]#011train-error:0.060653\u001b[0m\n",
      "\u001b[34m[13:47:20] src/tree/updater_prune.cc:74: tree pruning end, 1 roots, 38 extra nodes, 12 pruned nodes, max_depth=5\u001b[0m\n",
      "\u001b[34m[96]#011train-error:0.060254\u001b[0m\n",
      "\u001b[34m[13:47:20] src/tree/updater_prune.cc:74: tree pruning end, 1 roots, 32 extra nodes, 4 pruned nodes, max_depth=5\u001b[0m\n",
      "\u001b[34m[97]#011train-error:0.060527\u001b[0m\n",
      "\u001b[34m[13:47:21] src/tree/updater_prune.cc:74: tree pruning end, 1 roots, 32 extra nodes, 2 pruned nodes, max_depth=5\u001b[0m\n",
      "\u001b[34m[98]#011train-error:0.059376\u001b[0m\n",
      "\u001b[34m[13:47:21] src/tree/updater_prune.cc:74: tree pruning end, 1 roots, 30 extra nodes, 4 pruned nodes, max_depth=5\u001b[0m\n",
      "\u001b[34m[99]#011train-error:0.058727\u001b[0m\n",
      "\n",
      "2023-04-14 13:47:38 Uploading - Uploading generated training model\n",
      "2023-04-14 13:47:38 Completed - Training job completed\n",
      "Training seconds: 127\n",
      "Billable seconds: 127\n"
     ]
    }
   ],
   "source": [
    "xgb.set_hyperparameters(max_depth=5,\n",
    "                        eta=0.2,\n",
    "                        gamma=4,\n",
    "                        min_child_weight=6,\n",
    "                        subsample=0.8,\n",
    "                        silent=0,\n",
    "                        objective='binary:logistic',\n",
    "                        num_round=100)\n",
    "\n",
    "# xgb_train = pd.DataFrame(y_train).join(X_train)\n",
    "# xgb_train = sagemaker.TrainingInput(xgb_train.to_json())\n",
    "xgb.fit({'train': s3_input_train})"
   ]
  },
  {
   "cell_type": "code",
   "execution_count": 30,
   "id": "40c2984a-a5d6-428f-8c4b-7fe0eb1d959a",
   "metadata": {
    "tags": []
   },
   "outputs": [],
   "source": [
    "test_data = pd.concat([y_test, X_test], axis = 1)"
   ]
  },
  {
   "cell_type": "markdown",
   "id": "5361187e-8883-4281-abdd-c4b5a43adf8e",
   "metadata": {
    "tags": []
   },
   "source": [
    "### Deploy model endpoint"
   ]
  },
  {
   "cell_type": "code",
   "execution_count": 32,
   "id": "fb168529-0e0d-407f-ab5a-09c174050cab",
   "metadata": {
    "tags": []
   },
   "outputs": [
    {
     "name": "stderr",
     "output_type": "stream",
     "text": [
      "INFO:sagemaker:Creating model with name: xgboost-2023-04-14-13-47-58-759\n",
      "INFO:sagemaker:Creating endpoint-config with name xgboost-2023-04-14-13-47-58-759\n",
      "INFO:sagemaker:Creating endpoint with name xgboost-2023-04-14-13-47-58-759\n"
     ]
    },
    {
     "name": "stdout",
     "output_type": "stream",
     "text": [
      "--------!"
     ]
    }
   ],
   "source": [
    "# Deploy or read in endpoint \n",
    "\n",
    "xgb_predictor = xgb.deploy(initial_instance_count=1, instance_type='ml.m4.2xlarge')\n",
    "# xgb_predictor = sagemaker.predictor.Predictor(\n",
    "#     endpoint_name=\"xgboost-2023-04-12-17-22-35-143\",\n",
    "#     sagemaker_session=sagemaker.Session(),\n",
    "#     serializer=sagemaker.serializers.CSVSerializer()\n",
    "# )"
   ]
  },
  {
   "cell_type": "markdown",
   "id": "7f6b9ac4-01c3-47bc-83d1-80be23d453af",
   "metadata": {},
   "source": [
    "### Split data into batches and send to endpoint for inference"
   ]
  },
  {
   "cell_type": "code",
   "execution_count": 35,
   "id": "7fea4309-ea8d-47be-936b-f477b6465a7b",
   "metadata": {
    "tags": []
   },
   "outputs": [],
   "source": [
    "def chunker(seq, size):\n",
    "    return (seq[pos:pos + size] for pos in range(0, len(seq), size))"
   ]
  },
  {
   "cell_type": "code",
   "execution_count": 30,
   "id": "75c63cf5-ad6a-4838-89aa-1d951eadc56d",
   "metadata": {
    "tags": []
   },
   "outputs": [
    {
     "name": "stderr",
     "output_type": "stream",
     "text": [
      "INFO:botocore.credentials:Found credentials from IAM Role: BaseNotebookInstanceEc2InstanceRole\n"
     ]
    }
   ],
   "source": [
    "xgb_predictor = sagemaker.predictor.Predictor(\n",
    "    endpoint_name=\"xgboost-2023-04-12-17-22-35-143\",\n",
    "    sagemaker_session=sagemaker.Session(),\n",
    "    serializer=sagemaker.serializers.CSVSerializer()\n",
    ")"
   ]
  },
  {
   "cell_type": "code",
   "execution_count": 32,
   "id": "3b34e25c-f9d3-4028-b114-cedc24f56575",
   "metadata": {},
   "outputs": [
    {
     "name": "stderr",
     "output_type": "stream",
     "text": [
      "WARNING:sagemaker.deprecations:The csv_serializer has been renamed in sagemaker>=2.\n",
      "See: https://sagemaker.readthedocs.io/en/stable/v2.html for details.\n",
      "WARNING:sagemaker.deprecations:The csv_serializer has been renamed in sagemaker>=2.\n",
      "See: https://sagemaker.readthedocs.io/en/stable/v2.html for details.\n"
     ]
    },
    {
     "name": "stdout",
     "output_type": "stream",
     "text": [
      "(2930,)\n"
     ]
    },
    {
     "name": "stderr",
     "output_type": "stream",
     "text": [
      "WARNING:sagemaker.deprecations:The csv_serializer has been renamed in sagemaker>=2.\n",
      "See: https://sagemaker.readthedocs.io/en/stable/v2.html for details.\n"
     ]
    },
    {
     "name": "stdout",
     "output_type": "stream",
     "text": [
      "(2930,)\n"
     ]
    },
    {
     "name": "stderr",
     "output_type": "stream",
     "text": [
      "WARNING:sagemaker.deprecations:The csv_serializer has been renamed in sagemaker>=2.\n",
      "See: https://sagemaker.readthedocs.io/en/stable/v2.html for details.\n"
     ]
    },
    {
     "name": "stdout",
     "output_type": "stream",
     "text": [
      "(2930,)\n",
      "(2929,)\n"
     ]
    }
   ],
   "source": [
    "predictions_list = []\n",
    "\n",
    "for i in chunker(test_data, round(len(test_data)/4)):\n",
    "    test_data_array = i.drop(['is_claim'], axis=1).values\n",
    "    xgb_predictor.serializer = csv_serializer\n",
    "\n",
    "    predictions = xgb_predictor.predict(test_data_array).decode('utf-8')\n",
    "    predictions_array = np.fromstring(predictions[1:], sep=',')\n",
    "    predictions_list.append(predictions_array)\n",
    "    print(predictions_array.shape)"
   ]
  },
  {
   "cell_type": "code",
   "execution_count": 33,
   "id": "7cafdd7c-ecbb-46df-9203-bd0c562ab1bd",
   "metadata": {},
   "outputs": [
    {
     "data": {
      "text/plain": [
       "array([0.14282593, 0.15730155, 0.09496378, ..., 0.21587121, 0.20863397,\n",
       "       0.10911147])"
      ]
     },
     "execution_count": 33,
     "metadata": {},
     "output_type": "execute_result"
    }
   ],
   "source": [
    "preds = np.concatenate(predictions_list, axis=None)\n",
    "preds"
   ]
  },
  {
   "cell_type": "code",
   "execution_count": 34,
   "id": "76ab2662-4840-4dc3-86f6-a30217a0bb47",
   "metadata": {
    "collapsed": true,
    "jupyter": {
     "outputs_hidden": true
    },
    "tags": []
   },
   "outputs": [
    {
     "name": "stderr",
     "output_type": "stream",
     "text": [
      "WARNING:sagemaker.deprecations:The csv_serializer has been renamed in sagemaker>=2.\n",
      "See: https://sagemaker.readthedocs.io/en/stable/v2.html for details.\n",
      "WARNING:sagemaker.deprecations:The csv_serializer has been renamed in sagemaker>=2.\n",
      "See: https://sagemaker.readthedocs.io/en/stable/v2.html for details.\n"
     ]
    },
    {
     "name": "stdout",
     "output_type": "stream",
     "text": [
      "(3000,)\n"
     ]
    },
    {
     "name": "stderr",
     "output_type": "stream",
     "text": [
      "WARNING:sagemaker.deprecations:The csv_serializer has been renamed in sagemaker>=2.\n",
      "See: https://sagemaker.readthedocs.io/en/stable/v2.html for details.\n"
     ]
    },
    {
     "name": "stdout",
     "output_type": "stream",
     "text": [
      "(3000,)\n"
     ]
    },
    {
     "name": "stderr",
     "output_type": "stream",
     "text": [
      "WARNING:sagemaker.deprecations:The csv_serializer has been renamed in sagemaker>=2.\n",
      "See: https://sagemaker.readthedocs.io/en/stable/v2.html for details.\n"
     ]
    },
    {
     "name": "stdout",
     "output_type": "stream",
     "text": [
      "(3000,)\n"
     ]
    },
    {
     "name": "stderr",
     "output_type": "stream",
     "text": [
      "WARNING:sagemaker.deprecations:The csv_serializer has been renamed in sagemaker>=2.\n",
      "See: https://sagemaker.readthedocs.io/en/stable/v2.html for details.\n"
     ]
    },
    {
     "name": "stdout",
     "output_type": "stream",
     "text": [
      "(3000,)\n"
     ]
    },
    {
     "name": "stderr",
     "output_type": "stream",
     "text": [
      "WARNING:sagemaker.deprecations:The csv_serializer has been renamed in sagemaker>=2.\n",
      "See: https://sagemaker.readthedocs.io/en/stable/v2.html for details.\n"
     ]
    },
    {
     "name": "stdout",
     "output_type": "stream",
     "text": [
      "(3000,)\n"
     ]
    },
    {
     "name": "stderr",
     "output_type": "stream",
     "text": [
      "WARNING:sagemaker.deprecations:The csv_serializer has been renamed in sagemaker>=2.\n",
      "See: https://sagemaker.readthedocs.io/en/stable/v2.html for details.\n"
     ]
    },
    {
     "name": "stdout",
     "output_type": "stream",
     "text": [
      "(3000,)\n"
     ]
    },
    {
     "name": "stderr",
     "output_type": "stream",
     "text": [
      "WARNING:sagemaker.deprecations:The csv_serializer has been renamed in sagemaker>=2.\n",
      "See: https://sagemaker.readthedocs.io/en/stable/v2.html for details.\n"
     ]
    },
    {
     "name": "stdout",
     "output_type": "stream",
     "text": [
      "(3000,)\n"
     ]
    },
    {
     "name": "stderr",
     "output_type": "stream",
     "text": [
      "WARNING:sagemaker.deprecations:The csv_serializer has been renamed in sagemaker>=2.\n",
      "See: https://sagemaker.readthedocs.io/en/stable/v2.html for details.\n"
     ]
    },
    {
     "name": "stdout",
     "output_type": "stream",
     "text": [
      "(3000,)\n"
     ]
    },
    {
     "name": "stderr",
     "output_type": "stream",
     "text": [
      "WARNING:sagemaker.deprecations:The csv_serializer has been renamed in sagemaker>=2.\n",
      "See: https://sagemaker.readthedocs.io/en/stable/v2.html for details.\n"
     ]
    },
    {
     "name": "stdout",
     "output_type": "stream",
     "text": [
      "(3000,)\n"
     ]
    },
    {
     "name": "stderr",
     "output_type": "stream",
     "text": [
      "WARNING:sagemaker.deprecations:The csv_serializer has been renamed in sagemaker>=2.\n",
      "See: https://sagemaker.readthedocs.io/en/stable/v2.html for details.\n"
     ]
    },
    {
     "name": "stdout",
     "output_type": "stream",
     "text": [
      "(3000,)\n"
     ]
    },
    {
     "name": "stderr",
     "output_type": "stream",
     "text": [
      "WARNING:sagemaker.deprecations:The csv_serializer has been renamed in sagemaker>=2.\n",
      "See: https://sagemaker.readthedocs.io/en/stable/v2.html for details.\n"
     ]
    },
    {
     "name": "stdout",
     "output_type": "stream",
     "text": [
      "(3000,)\n"
     ]
    },
    {
     "name": "stderr",
     "output_type": "stream",
     "text": [
      "WARNING:sagemaker.deprecations:The csv_serializer has been renamed in sagemaker>=2.\n",
      "See: https://sagemaker.readthedocs.io/en/stable/v2.html for details.\n"
     ]
    },
    {
     "name": "stdout",
     "output_type": "stream",
     "text": [
      "(3000,)\n"
     ]
    },
    {
     "name": "stderr",
     "output_type": "stream",
     "text": [
      "WARNING:sagemaker.deprecations:The csv_serializer has been renamed in sagemaker>=2.\n",
      "See: https://sagemaker.readthedocs.io/en/stable/v2.html for details.\n"
     ]
    },
    {
     "name": "stdout",
     "output_type": "stream",
     "text": [
      "(3000,)\n"
     ]
    },
    {
     "name": "stderr",
     "output_type": "stream",
     "text": [
      "WARNING:sagemaker.deprecations:The csv_serializer has been renamed in sagemaker>=2.\n",
      "See: https://sagemaker.readthedocs.io/en/stable/v2.html for details.\n"
     ]
    },
    {
     "name": "stdout",
     "output_type": "stream",
     "text": [
      "(3000,)\n"
     ]
    },
    {
     "name": "stderr",
     "output_type": "stream",
     "text": [
      "WARNING:sagemaker.deprecations:The csv_serializer has been renamed in sagemaker>=2.\n",
      "See: https://sagemaker.readthedocs.io/en/stable/v2.html for details.\n"
     ]
    },
    {
     "name": "stdout",
     "output_type": "stream",
     "text": [
      "(3000,)\n"
     ]
    },
    {
     "name": "stderr",
     "output_type": "stream",
     "text": [
      "WARNING:sagemaker.deprecations:The csv_serializer has been renamed in sagemaker>=2.\n",
      "See: https://sagemaker.readthedocs.io/en/stable/v2.html for details.\n"
     ]
    },
    {
     "name": "stdout",
     "output_type": "stream",
     "text": [
      "(3000,)\n"
     ]
    },
    {
     "name": "stderr",
     "output_type": "stream",
     "text": [
      "WARNING:sagemaker.deprecations:The csv_serializer has been renamed in sagemaker>=2.\n",
      "See: https://sagemaker.readthedocs.io/en/stable/v2.html for details.\n"
     ]
    },
    {
     "name": "stdout",
     "output_type": "stream",
     "text": [
      "(3000,)\n"
     ]
    },
    {
     "name": "stderr",
     "output_type": "stream",
     "text": [
      "WARNING:sagemaker.deprecations:The csv_serializer has been renamed in sagemaker>=2.\n",
      "See: https://sagemaker.readthedocs.io/en/stable/v2.html for details.\n"
     ]
    },
    {
     "name": "stdout",
     "output_type": "stream",
     "text": [
      "(3000,)\n"
     ]
    },
    {
     "name": "stderr",
     "output_type": "stream",
     "text": [
      "WARNING:sagemaker.deprecations:The csv_serializer has been renamed in sagemaker>=2.\n",
      "See: https://sagemaker.readthedocs.io/en/stable/v2.html for details.\n"
     ]
    },
    {
     "name": "stdout",
     "output_type": "stream",
     "text": [
      "(3000,)\n"
     ]
    },
    {
     "name": "stderr",
     "output_type": "stream",
     "text": [
      "WARNING:sagemaker.deprecations:The csv_serializer has been renamed in sagemaker>=2.\n",
      "See: https://sagemaker.readthedocs.io/en/stable/v2.html for details.\n"
     ]
    },
    {
     "name": "stdout",
     "output_type": "stream",
     "text": [
      "(3000,)\n"
     ]
    },
    {
     "name": "stderr",
     "output_type": "stream",
     "text": [
      "WARNING:sagemaker.deprecations:The csv_serializer has been renamed in sagemaker>=2.\n",
      "See: https://sagemaker.readthedocs.io/en/stable/v2.html for details.\n"
     ]
    },
    {
     "name": "stdout",
     "output_type": "stream",
     "text": [
      "(3000,)\n"
     ]
    },
    {
     "name": "stderr",
     "output_type": "stream",
     "text": [
      "WARNING:sagemaker.deprecations:The csv_serializer has been renamed in sagemaker>=2.\n",
      "See: https://sagemaker.readthedocs.io/en/stable/v2.html for details.\n"
     ]
    },
    {
     "name": "stdout",
     "output_type": "stream",
     "text": [
      "(3000,)\n"
     ]
    },
    {
     "name": "stderr",
     "output_type": "stream",
     "text": [
      "WARNING:sagemaker.deprecations:The csv_serializer has been renamed in sagemaker>=2.\n",
      "See: https://sagemaker.readthedocs.io/en/stable/v2.html for details.\n"
     ]
    },
    {
     "name": "stdout",
     "output_type": "stream",
     "text": [
      "(3000,)\n"
     ]
    },
    {
     "name": "stderr",
     "output_type": "stream",
     "text": [
      "WARNING:sagemaker.deprecations:The csv_serializer has been renamed in sagemaker>=2.\n",
      "See: https://sagemaker.readthedocs.io/en/stable/v2.html for details.\n"
     ]
    },
    {
     "name": "stdout",
     "output_type": "stream",
     "text": [
      "(3000,)\n"
     ]
    },
    {
     "name": "stderr",
     "output_type": "stream",
     "text": [
      "WARNING:sagemaker.deprecations:The csv_serializer has been renamed in sagemaker>=2.\n",
      "See: https://sagemaker.readthedocs.io/en/stable/v2.html for details.\n"
     ]
    },
    {
     "name": "stdout",
     "output_type": "stream",
     "text": [
      "(3000,)\n"
     ]
    },
    {
     "name": "stderr",
     "output_type": "stream",
     "text": [
      "WARNING:sagemaker.deprecations:The csv_serializer has been renamed in sagemaker>=2.\n",
      "See: https://sagemaker.readthedocs.io/en/stable/v2.html for details.\n"
     ]
    },
    {
     "name": "stdout",
     "output_type": "stream",
     "text": [
      "(3000,)\n"
     ]
    },
    {
     "name": "stderr",
     "output_type": "stream",
     "text": [
      "WARNING:sagemaker.deprecations:The csv_serializer has been renamed in sagemaker>=2.\n",
      "See: https://sagemaker.readthedocs.io/en/stable/v2.html for details.\n"
     ]
    },
    {
     "name": "stdout",
     "output_type": "stream",
     "text": [
      "(3000,)\n"
     ]
    },
    {
     "name": "stderr",
     "output_type": "stream",
     "text": [
      "WARNING:sagemaker.deprecations:The csv_serializer has been renamed in sagemaker>=2.\n",
      "See: https://sagemaker.readthedocs.io/en/stable/v2.html for details.\n"
     ]
    },
    {
     "name": "stdout",
     "output_type": "stream",
     "text": [
      "(3000,)\n"
     ]
    },
    {
     "name": "stderr",
     "output_type": "stream",
     "text": [
      "WARNING:sagemaker.deprecations:The csv_serializer has been renamed in sagemaker>=2.\n",
      "See: https://sagemaker.readthedocs.io/en/stable/v2.html for details.\n"
     ]
    },
    {
     "name": "stdout",
     "output_type": "stream",
     "text": [
      "(3000,)\n",
      "(762,)\n"
     ]
    },
    {
     "data": {
      "text/plain": [
       "array([0.19345088, 0.06379937, 0.0742424 , ..., 0.37187734, 0.88787252,\n",
       "       0.90471619])"
      ]
     },
     "execution_count": 34,
     "metadata": {},
     "output_type": "execute_result"
    }
   ],
   "source": [
    "predictions_list = []\n",
    "s3_input_train_df = pd.read_csv('s3://techexcellence.ml.project.team3/scaledTrainingData', header=None)\n",
    "\n",
    "for i in chunker(s3_input_train_df, 3000):\n",
    "    test_data_array = i.drop([0], axis=1).values\n",
    "    xgb_predictor.serializer = csv_serializer\n",
    "\n",
    "    predictions = xgb_predictor.predict(test_data_array).decode('utf-8')\n",
    "    predictions_array = np.fromstring(predictions[1:], sep=',')\n",
    "    predictions_list.append(predictions_array)\n",
    "    print(predictions_array.shape)\n",
    "\n",
    "y_hat = np.concatenate(predictions_list, axis=None)\n",
    "y_hat"
   ]
  },
  {
   "cell_type": "markdown",
   "id": "037fdce7-9666-4c90-a5d4-bdf51aa09ae4",
   "metadata": {},
   "source": [
    "### Get classification report for both training and testing data "
   ]
  },
  {
   "cell_type": "code",
   "execution_count": 35,
   "id": "3b66d035-f0c0-4271-bf20-29b8aa36f2e9",
   "metadata": {},
   "outputs": [
    {
     "name": "stdout",
     "output_type": "stream",
     "text": [
      "              precision    recall  f1-score   support\n",
      "\n",
      "           0       0.91      0.99      0.94     43881\n",
      "           1       0.98      0.90      0.94     43881\n",
      "\n",
      "    accuracy                           0.94     87762\n",
      "   macro avg       0.94      0.94      0.94     87762\n",
      "weighted avg       0.94      0.94      0.94     87762\n",
      "\n"
     ]
    }
   ],
   "source": [
    "print(classification_report(s3_input_train_df[0], np.round(y_hat)))"
   ]
  },
  {
   "cell_type": "code",
   "execution_count": 36,
   "id": "61545ff6-bed1-4ddd-9229-acc397ceef80",
   "metadata": {},
   "outputs": [
    {
     "name": "stdout",
     "output_type": "stream",
     "text": [
      "              precision    recall  f1-score   support\n",
      "\n",
      "           0       0.94      0.98      0.96     10963\n",
      "           1       0.16      0.04      0.07       756\n",
      "\n",
      "    accuracy                           0.92     11719\n",
      "   macro avg       0.55      0.51      0.51     11719\n",
      "weighted avg       0.89      0.92      0.90     11719\n",
      "\n"
     ]
    }
   ],
   "source": [
    "print(classification_report(test_data[['is_claim']], np.round(preds)))"
   ]
  },
  {
   "cell_type": "markdown",
   "id": "910f0803-0d73-4f9d-886b-25f0a71026fe",
   "metadata": {},
   "source": [
    "### Model with hyperparameter tuning"
   ]
  },
  {
   "cell_type": "code",
   "execution_count": 37,
   "id": "a15c37c7-9fd4-46aa-8c6a-28368bfa4e6b",
   "metadata": {},
   "outputs": [],
   "source": [
    "objective_metric_name = \"validation:auc\"\n",
    "MAX_JOBS = 5\n",
    "MAX_PARALLEL_JOBS = 4\n",
    "STRATEGY = 'Bayesian'\n",
    "SCALING_TYPE = 'Linear'"
   ]
  },
  {
   "cell_type": "code",
   "execution_count": 38,
   "id": "b7f5c4be-9614-499a-9828-490323df7577",
   "metadata": {},
   "outputs": [
    {
     "name": "stderr",
     "output_type": "stream",
     "text": [
      "INFO:sagemaker:Creating hyperparameter tuning job with name: xgb-linsearch-20230413-15-46-42\n"
     ]
    },
    {
     "name": "stdout",
     "output_type": "stream",
     "text": [
      "............................................................................!\n"
     ]
    }
   ],
   "source": [
    "tuninig_job_name = \"xgb-linsearch-\" + strftime(\"%Y%m%d-%H-%M-%S\", gmtime())\n",
    "\n",
    "hyperparameter_ranges_linear = {\n",
    "    \"alpha\": ContinuousParameter(0.05, 1, scaling_type=SCALING_TYPE),\n",
    "    \"lambda\": ContinuousParameter(0.05, 1, scaling_type=SCALING_TYPE),\n",
    "}\n",
    "\n",
    "tuner_linear = HyperparameterTuner(\n",
    "    xgb,\n",
    "    objective_metric_name,\n",
    "    hyperparameter_ranges_linear,\n",
    "    max_jobs=MAX_JOBS,\n",
    "    max_parallel_jobs=MAX_PARALLEL_JOBS,\n",
    "    strategy=STRATEGY,\n",
    ")\n",
    "\n",
    "tuner_linear.fit(\n",
    "    {\"train\": s3_input_train, \"validation\": s3_input_validate},\n",
    "    include_cls_metadata=False,\n",
    "    job_name=tuninig_job_name)"
   ]
  },
  {
   "cell_type": "code",
   "execution_count": 39,
   "id": "f170936e-8f95-415a-b3b5-d179e2a3f36d",
   "metadata": {},
   "outputs": [
    {
     "name": "stderr",
     "output_type": "stream",
     "text": [
      "INFO:botocore.credentials:Found credentials from IAM Role: BaseNotebookInstanceEc2InstanceRole\n"
     ]
    },
    {
     "data": {
      "text/plain": [
       "'Completed'"
      ]
     },
     "execution_count": 39,
     "metadata": {},
     "output_type": "execute_result"
    }
   ],
   "source": [
    "boto3.client(\"sagemaker\").describe_hyper_parameter_tuning_job(\n",
    "    HyperParameterTuningJobName=tuner_linear.latest_tuning_job.job_name\n",
    ")[\"HyperParameterTuningJobStatus\"]"
   ]
  },
  {
   "cell_type": "code",
   "execution_count": 40,
   "id": "c6087616-621a-422e-8d06-307621c20310",
   "metadata": {},
   "outputs": [
    {
     "name": "stdout",
     "output_type": "stream",
     "text": [
      "Number of training jobs with valid objective: 5\n",
      "{'lowest': 0.6493110060691833, 'highest': 0.6522229909896851}\n"
     ]
    },
    {
     "data": {
      "text/html": [
       "<div>\n",
       "<style scoped>\n",
       "    .dataframe tbody tr th:only-of-type {\n",
       "        vertical-align: middle;\n",
       "    }\n",
       "\n",
       "    .dataframe tbody tr th {\n",
       "        vertical-align: top;\n",
       "    }\n",
       "\n",
       "    .dataframe thead th {\n",
       "        text-align: right;\n",
       "    }\n",
       "</style>\n",
       "<table border=\"1\" class=\"dataframe\">\n",
       "  <thead>\n",
       "    <tr style=\"text-align: right;\">\n",
       "      <th></th>\n",
       "      <th>alpha</th>\n",
       "      <th>lambda</th>\n",
       "      <th>TrainingJobName</th>\n",
       "      <th>TrainingJobStatus</th>\n",
       "      <th>FinalObjectiveValue</th>\n",
       "      <th>TrainingStartTime</th>\n",
       "      <th>TrainingEndTime</th>\n",
       "      <th>TrainingElapsedTimeSeconds</th>\n",
       "    </tr>\n",
       "  </thead>\n",
       "  <tbody>\n",
       "    <tr>\n",
       "      <th>3</th>\n",
       "      <td>0.181908</td>\n",
       "      <td>0.814959</td>\n",
       "      <td>xgb-linsearch-20230413-15-46-42-002-38d5ac0c</td>\n",
       "      <td>Completed</td>\n",
       "      <td>0.652223</td>\n",
       "      <td>2023-04-13 15:48:51+00:00</td>\n",
       "      <td>2023-04-13 15:50:54+00:00</td>\n",
       "      <td>123.0</td>\n",
       "    </tr>\n",
       "    <tr>\n",
       "      <th>1</th>\n",
       "      <td>0.973252</td>\n",
       "      <td>0.773653</td>\n",
       "      <td>xgb-linsearch-20230413-15-46-42-004-772edde8</td>\n",
       "      <td>Completed</td>\n",
       "      <td>0.651717</td>\n",
       "      <td>2023-04-13 15:48:56+00:00</td>\n",
       "      <td>2023-04-13 15:50:59+00:00</td>\n",
       "      <td>123.0</td>\n",
       "    </tr>\n",
       "    <tr>\n",
       "      <th>2</th>\n",
       "      <td>0.249562</td>\n",
       "      <td>0.213178</td>\n",
       "      <td>xgb-linsearch-20230413-15-46-42-003-5544840b</td>\n",
       "      <td>Completed</td>\n",
       "      <td>0.650437</td>\n",
       "      <td>2023-04-13 15:48:33+00:00</td>\n",
       "      <td>2023-04-13 15:50:42+00:00</td>\n",
       "      <td>129.0</td>\n",
       "    </tr>\n",
       "    <tr>\n",
       "      <th>4</th>\n",
       "      <td>0.125055</td>\n",
       "      <td>0.791197</td>\n",
       "      <td>xgb-linsearch-20230413-15-46-42-001-2f5ac8b7</td>\n",
       "      <td>Completed</td>\n",
       "      <td>0.650227</td>\n",
       "      <td>2023-04-13 15:48:49+00:00</td>\n",
       "      <td>2023-04-13 15:50:41+00:00</td>\n",
       "      <td>112.0</td>\n",
       "    </tr>\n",
       "    <tr>\n",
       "      <th>0</th>\n",
       "      <td>0.828146</td>\n",
       "      <td>0.077840</td>\n",
       "      <td>xgb-linsearch-20230413-15-46-42-005-82f7d352</td>\n",
       "      <td>Completed</td>\n",
       "      <td>0.649311</td>\n",
       "      <td>2023-04-13 15:52:14+00:00</td>\n",
       "      <td>2023-04-13 15:53:06+00:00</td>\n",
       "      <td>52.0</td>\n",
       "    </tr>\n",
       "  </tbody>\n",
       "</table>\n",
       "</div>"
      ],
      "text/plain": [
       "      alpha    lambda                               TrainingJobName  \\\n",
       "3  0.181908  0.814959  xgb-linsearch-20230413-15-46-42-002-38d5ac0c   \n",
       "1  0.973252  0.773653  xgb-linsearch-20230413-15-46-42-004-772edde8   \n",
       "2  0.249562  0.213178  xgb-linsearch-20230413-15-46-42-003-5544840b   \n",
       "4  0.125055  0.791197  xgb-linsearch-20230413-15-46-42-001-2f5ac8b7   \n",
       "0  0.828146  0.077840  xgb-linsearch-20230413-15-46-42-005-82f7d352   \n",
       "\n",
       "  TrainingJobStatus  FinalObjectiveValue         TrainingStartTime  \\\n",
       "3         Completed             0.652223 2023-04-13 15:48:51+00:00   \n",
       "1         Completed             0.651717 2023-04-13 15:48:56+00:00   \n",
       "2         Completed             0.650437 2023-04-13 15:48:33+00:00   \n",
       "4         Completed             0.650227 2023-04-13 15:48:49+00:00   \n",
       "0         Completed             0.649311 2023-04-13 15:52:14+00:00   \n",
       "\n",
       "            TrainingEndTime  TrainingElapsedTimeSeconds  \n",
       "3 2023-04-13 15:50:54+00:00                       123.0  \n",
       "1 2023-04-13 15:50:59+00:00                       123.0  \n",
       "2 2023-04-13 15:50:42+00:00                       129.0  \n",
       "4 2023-04-13 15:50:41+00:00                       112.0  \n",
       "0 2023-04-13 15:53:06+00:00                        52.0  "
      ]
     },
     "execution_count": 40,
     "metadata": {},
     "output_type": "execute_result"
    }
   ],
   "source": [
    "tuner = sagemaker.HyperparameterTuningJobAnalytics(tuninig_job_name)\n",
    "\n",
    "full_df = tuner.dataframe()\n",
    "\n",
    "if len(full_df) > 0:\n",
    "    df = full_df[full_df[\"FinalObjectiveValue\"] > -float(\"inf\")]\n",
    "    if len(df) > 0:\n",
    "        df = df.sort_values(\"FinalObjectiveValue\", ascending=False)\n",
    "        print(\"Number of training jobs with valid objective: %d\" % len(df))\n",
    "        print({\"lowest\": min(df[\"FinalObjectiveValue\"]), \"highest\": max(df[\"FinalObjectiveValue\"])})\n",
    "        pd.set_option(\"display.max_colwidth\", None)  # Don't truncate TrainingJobName\n",
    "    else:\n",
    "        print(\"No training jobs have reported valid results yet.\")\n",
    "\n",
    "df"
   ]
  },
  {
   "cell_type": "markdown",
   "id": "174bb048-74c5-4423-8538-3a4f435a59b6",
   "metadata": {},
   "source": [
    "### Deploy best tuned model"
   ]
  },
  {
   "cell_type": "code",
   "execution_count": 142,
   "id": "40f5e5c4-69f1-4286-bac2-9a5619bf93ac",
   "metadata": {},
   "outputs": [],
   "source": [
    "# xgb_predictor = tuner_linear.deploy(initial_instance_count=1, instance_type='ml.m4.xlarge')\n",
    "xgb_tuned_predictor = sagemaker.predictor.Predictor(\n",
    "    endpoint_name=\"xgb-linsearch-20230412-17-50-07-005-ef87c0f1\",\n",
    "    sagemaker_session=sagemaker.Session(),\n",
    "    serializer=sagemaker.serializers.CSVSerializer()\n",
    ")"
   ]
  },
  {
   "cell_type": "code",
   "execution_count": 143,
   "id": "0b2ebea1-721f-4095-93f1-cfd87390478b",
   "metadata": {},
   "outputs": [
    {
     "name": "stderr",
     "output_type": "stream",
     "text": [
      "WARNING:sagemaker.deprecations:The csv_serializer has been renamed in sagemaker>=2.\n",
      "See: https://sagemaker.readthedocs.io/en/stable/v2.html for details.\n",
      "WARNING:sagemaker.deprecations:The csv_serializer has been renamed in sagemaker>=2.\n",
      "See: https://sagemaker.readthedocs.io/en/stable/v2.html for details.\n"
     ]
    },
    {
     "name": "stdout",
     "output_type": "stream",
     "text": [
      "(2500,)\n"
     ]
    },
    {
     "name": "stderr",
     "output_type": "stream",
     "text": [
      "WARNING:sagemaker.deprecations:The csv_serializer has been renamed in sagemaker>=2.\n",
      "See: https://sagemaker.readthedocs.io/en/stable/v2.html for details.\n"
     ]
    },
    {
     "name": "stdout",
     "output_type": "stream",
     "text": [
      "(2500,)\n"
     ]
    },
    {
     "name": "stderr",
     "output_type": "stream",
     "text": [
      "WARNING:sagemaker.deprecations:The csv_serializer has been renamed in sagemaker>=2.\n",
      "See: https://sagemaker.readthedocs.io/en/stable/v2.html for details.\n"
     ]
    },
    {
     "name": "stdout",
     "output_type": "stream",
     "text": [
      "(2500,)\n"
     ]
    },
    {
     "name": "stderr",
     "output_type": "stream",
     "text": [
      "WARNING:sagemaker.deprecations:The csv_serializer has been renamed in sagemaker>=2.\n",
      "See: https://sagemaker.readthedocs.io/en/stable/v2.html for details.\n"
     ]
    },
    {
     "name": "stdout",
     "output_type": "stream",
     "text": [
      "(2500,)\n",
      "(1719,)\n"
     ]
    },
    {
     "data": {
      "text/plain": [
       "array([0.19345088, 0.06379937, 0.0742424 , ..., 0.37187734, 0.88787252,\n",
       "       0.90471619])"
      ]
     },
     "execution_count": 143,
     "metadata": {},
     "output_type": "execute_result"
    }
   ],
   "source": [
    "#send y_train to endpoint deployed above\n",
    "predictions_list = []\n",
    "s3_input_validate_df = pd.read_csv('s3://techexcellence.ml.project.team3/scaledValidateData', header=None)\n",
    "\n",
    "for i in chunker(s3_input_validate_df, 2500):\n",
    "    test_data_array = i.drop([0], axis=1).values\n",
    "    xgb_tuned_predictor.serializer = csv_serializer\n",
    "\n",
    "    predictions = xgb_tuned_predictor.predict(test_data_array).decode('utf-8')\n",
    "    predictions_array = np.fromstring(predictions[1:], sep=',')\n",
    "    predictions_list.append(predictions_array)\n",
    "    print(predictions_array.shape)\n",
    "\n",
    "y_hat_2 = np.concatenate(predictions_list, axis=None)"
   ]
  },
  {
   "cell_type": "code",
   "execution_count": 144,
   "id": "1f8e1b27-1e44-4d56-9ed5-5bf2401aec3d",
   "metadata": {},
   "outputs": [
    {
     "name": "stdout",
     "output_type": "stream",
     "text": [
      "              precision    recall  f1-score   support\n",
      "\n",
      "           0       0.94      0.99      0.96     10963\n",
      "           1       0.16      0.04      0.06       756\n",
      "\n",
      "    accuracy                           0.93     11719\n",
      "   macro avg       0.55      0.51      0.51     11719\n",
      "weighted avg       0.89      0.93      0.90     11719\n",
      "\n"
     ]
    }
   ],
   "source": [
    "print(classification_report(test_data[['is_claim']], np.round(y_hat_2)))"
   ]
  },
  {
   "cell_type": "markdown",
   "id": "5828bd3d-7450-4880-adac-e53a5683122e",
   "metadata": {},
   "source": [
    "Summary: Model performed slightly better before hyperparameter tuning in terms of F1 score when predicting that a claim would be filed. Overall, there does not seem to be enough indicators in the data to build this type of prediction model in a way that provides value when predicting if a claim will be filed."
   ]
  },
  {
   "cell_type": "markdown",
   "id": "648a8862-9ed5-4550-acc1-320bf1247319",
   "metadata": {},
   "source": [
    "### Send test data to best model built by AutoML AutoPilot"
   ]
  },
  {
   "cell_type": "code",
   "execution_count": 37,
   "id": "f956fed3-afb3-4ff1-b5a1-1907bf5bdeb4",
   "metadata": {
    "tags": []
   },
   "outputs": [
    {
     "name": "stderr",
     "output_type": "stream",
     "text": [
      "INFO:botocore.credentials:Found credentials from IAM Role: BaseNotebookInstanceEc2InstanceRole\n"
     ]
    }
   ],
   "source": [
    "# xgb_predictor = tuner_linear.deploy(initial_instance_count=1, instance_type='ml.m4.xlarge')\n",
    "xgb_tuned_predictor = sagemaker.predictor.Predictor(\n",
    "    endpoint_name=\"SageMakerEndpoint-04142023\",\n",
    "    sagemaker_session=sagemaker.Session(),\n",
    "    serializer=sagemaker.serializers.CSVSerializer()\n",
    ")"
   ]
  },
  {
   "cell_type": "code",
   "execution_count": 38,
   "id": "958891ec-c0e8-48a5-9ed4-f740c5869006",
   "metadata": {
    "tags": []
   },
   "outputs": [
    {
     "data": {
      "text/html": [
       "<div>\n",
       "<style scoped>\n",
       "    .dataframe tbody tr th:only-of-type {\n",
       "        vertical-align: middle;\n",
       "    }\n",
       "\n",
       "    .dataframe tbody tr th {\n",
       "        vertical-align: top;\n",
       "    }\n",
       "\n",
       "    .dataframe thead th {\n",
       "        text-align: right;\n",
       "    }\n",
       "</style>\n",
       "<table border=\"1\" class=\"dataframe\">\n",
       "  <thead>\n",
       "    <tr style=\"text-align: right;\">\n",
       "      <th></th>\n",
       "      <th>policy_id</th>\n",
       "      <th>policy_tenure</th>\n",
       "      <th>age_of_car</th>\n",
       "      <th>age_of_policyholder</th>\n",
       "      <th>area_cluster</th>\n",
       "      <th>population_density</th>\n",
       "      <th>make</th>\n",
       "      <th>segment</th>\n",
       "      <th>model</th>\n",
       "      <th>fuel_type</th>\n",
       "      <th>max_torque</th>\n",
       "      <th>max_power</th>\n",
       "      <th>engine_type</th>\n",
       "      <th>airbags</th>\n",
       "      <th>is_esc</th>\n",
       "      <th>is_adjustable_steering</th>\n",
       "      <th>is_tpms</th>\n",
       "      <th>is_parking_sensors</th>\n",
       "      <th>is_parking_camera</th>\n",
       "      <th>rear_brakes_type</th>\n",
       "      <th>displacement</th>\n",
       "      <th>cylinder</th>\n",
       "      <th>transmission_type</th>\n",
       "      <th>gear_box</th>\n",
       "      <th>steering_type</th>\n",
       "      <th>turning_radius</th>\n",
       "      <th>length</th>\n",
       "      <th>width</th>\n",
       "      <th>height</th>\n",
       "      <th>gross_weight</th>\n",
       "      <th>is_front_fog_lights</th>\n",
       "      <th>is_rear_window_wiper</th>\n",
       "      <th>is_rear_window_washer</th>\n",
       "      <th>is_rear_window_defogger</th>\n",
       "      <th>is_brake_assist</th>\n",
       "      <th>is_power_door_locks</th>\n",
       "      <th>is_central_locking</th>\n",
       "      <th>is_power_steering</th>\n",
       "      <th>is_driver_seat_height_adjustable</th>\n",
       "      <th>is_day_night_rear_view_mirror</th>\n",
       "      <th>is_ecw</th>\n",
       "      <th>is_speed_alert</th>\n",
       "      <th>ncap_rating</th>\n",
       "    </tr>\n",
       "  </thead>\n",
       "  <tbody>\n",
       "    <tr>\n",
       "      <th>0</th>\n",
       "      <td>ID58593</td>\n",
       "      <td>0.341732</td>\n",
       "      <td>0.00</td>\n",
       "      <td>0.586538</td>\n",
       "      <td>C3</td>\n",
       "      <td>4076</td>\n",
       "      <td>1</td>\n",
       "      <td>A</td>\n",
       "      <td>M1</td>\n",
       "      <td>CNG</td>\n",
       "      <td>60Nm@3500rpm</td>\n",
       "      <td>40.36bhp@6000rpm</td>\n",
       "      <td>F8D Petrol Engine</td>\n",
       "      <td>2</td>\n",
       "      <td>No</td>\n",
       "      <td>No</td>\n",
       "      <td>No</td>\n",
       "      <td>Yes</td>\n",
       "      <td>No</td>\n",
       "      <td>Drum</td>\n",
       "      <td>796</td>\n",
       "      <td>3</td>\n",
       "      <td>Manual</td>\n",
       "      <td>5</td>\n",
       "      <td>Power</td>\n",
       "      <td>4.6</td>\n",
       "      <td>3445</td>\n",
       "      <td>1515</td>\n",
       "      <td>1475</td>\n",
       "      <td>1185</td>\n",
       "      <td>No</td>\n",
       "      <td>No</td>\n",
       "      <td>No</td>\n",
       "      <td>No</td>\n",
       "      <td>No</td>\n",
       "      <td>No</td>\n",
       "      <td>No</td>\n",
       "      <td>Yes</td>\n",
       "      <td>No</td>\n",
       "      <td>No</td>\n",
       "      <td>No</td>\n",
       "      <td>Yes</td>\n",
       "      <td>0</td>\n",
       "    </tr>\n",
       "    <tr>\n",
       "      <th>1</th>\n",
       "      <td>ID58594</td>\n",
       "      <td>0.307241</td>\n",
       "      <td>0.13</td>\n",
       "      <td>0.442308</td>\n",
       "      <td>C8</td>\n",
       "      <td>8794</td>\n",
       "      <td>1</td>\n",
       "      <td>B2</td>\n",
       "      <td>M6</td>\n",
       "      <td>Petrol</td>\n",
       "      <td>113Nm@4400rpm</td>\n",
       "      <td>88.50bhp@6000rpm</td>\n",
       "      <td>K Series Dual jet</td>\n",
       "      <td>2</td>\n",
       "      <td>No</td>\n",
       "      <td>Yes</td>\n",
       "      <td>No</td>\n",
       "      <td>Yes</td>\n",
       "      <td>No</td>\n",
       "      <td>Drum</td>\n",
       "      <td>1197</td>\n",
       "      <td>4</td>\n",
       "      <td>Manual</td>\n",
       "      <td>5</td>\n",
       "      <td>Electric</td>\n",
       "      <td>4.8</td>\n",
       "      <td>3845</td>\n",
       "      <td>1735</td>\n",
       "      <td>1530</td>\n",
       "      <td>1335</td>\n",
       "      <td>Yes</td>\n",
       "      <td>No</td>\n",
       "      <td>No</td>\n",
       "      <td>No</td>\n",
       "      <td>Yes</td>\n",
       "      <td>Yes</td>\n",
       "      <td>Yes</td>\n",
       "      <td>Yes</td>\n",
       "      <td>Yes</td>\n",
       "      <td>Yes</td>\n",
       "      <td>Yes</td>\n",
       "      <td>Yes</td>\n",
       "      <td>2</td>\n",
       "    </tr>\n",
       "    <tr>\n",
       "      <th>2</th>\n",
       "      <td>ID58595</td>\n",
       "      <td>0.327924</td>\n",
       "      <td>0.12</td>\n",
       "      <td>0.451923</td>\n",
       "      <td>C8</td>\n",
       "      <td>8794</td>\n",
       "      <td>2</td>\n",
       "      <td>A</td>\n",
       "      <td>M3</td>\n",
       "      <td>Petrol</td>\n",
       "      <td>91Nm@4250rpm</td>\n",
       "      <td>67.06bhp@5500rpm</td>\n",
       "      <td>1.0 SCe</td>\n",
       "      <td>2</td>\n",
       "      <td>No</td>\n",
       "      <td>No</td>\n",
       "      <td>No</td>\n",
       "      <td>No</td>\n",
       "      <td>Yes</td>\n",
       "      <td>Drum</td>\n",
       "      <td>999</td>\n",
       "      <td>3</td>\n",
       "      <td>Automatic</td>\n",
       "      <td>5</td>\n",
       "      <td>Electric</td>\n",
       "      <td>5.0</td>\n",
       "      <td>3731</td>\n",
       "      <td>1579</td>\n",
       "      <td>1490</td>\n",
       "      <td>1155</td>\n",
       "      <td>No</td>\n",
       "      <td>No</td>\n",
       "      <td>No</td>\n",
       "      <td>No</td>\n",
       "      <td>No</td>\n",
       "      <td>Yes</td>\n",
       "      <td>Yes</td>\n",
       "      <td>Yes</td>\n",
       "      <td>No</td>\n",
       "      <td>Yes</td>\n",
       "      <td>Yes</td>\n",
       "      <td>Yes</td>\n",
       "      <td>2</td>\n",
       "    </tr>\n",
       "    <tr>\n",
       "      <th>3</th>\n",
       "      <td>ID58596</td>\n",
       "      <td>0.782654</td>\n",
       "      <td>0.01</td>\n",
       "      <td>0.461538</td>\n",
       "      <td>C5</td>\n",
       "      <td>34738</td>\n",
       "      <td>1</td>\n",
       "      <td>A</td>\n",
       "      <td>M1</td>\n",
       "      <td>CNG</td>\n",
       "      <td>60Nm@3500rpm</td>\n",
       "      <td>40.36bhp@6000rpm</td>\n",
       "      <td>F8D Petrol Engine</td>\n",
       "      <td>2</td>\n",
       "      <td>No</td>\n",
       "      <td>No</td>\n",
       "      <td>No</td>\n",
       "      <td>Yes</td>\n",
       "      <td>No</td>\n",
       "      <td>Drum</td>\n",
       "      <td>796</td>\n",
       "      <td>3</td>\n",
       "      <td>Manual</td>\n",
       "      <td>5</td>\n",
       "      <td>Power</td>\n",
       "      <td>4.6</td>\n",
       "      <td>3445</td>\n",
       "      <td>1515</td>\n",
       "      <td>1475</td>\n",
       "      <td>1185</td>\n",
       "      <td>No</td>\n",
       "      <td>No</td>\n",
       "      <td>No</td>\n",
       "      <td>No</td>\n",
       "      <td>No</td>\n",
       "      <td>No</td>\n",
       "      <td>No</td>\n",
       "      <td>Yes</td>\n",
       "      <td>No</td>\n",
       "      <td>No</td>\n",
       "      <td>No</td>\n",
       "      <td>Yes</td>\n",
       "      <td>0</td>\n",
       "    </tr>\n",
       "    <tr>\n",
       "      <th>4</th>\n",
       "      <td>ID58597</td>\n",
       "      <td>1.233404</td>\n",
       "      <td>0.02</td>\n",
       "      <td>0.634615</td>\n",
       "      <td>C5</td>\n",
       "      <td>34738</td>\n",
       "      <td>1</td>\n",
       "      <td>A</td>\n",
       "      <td>M1</td>\n",
       "      <td>CNG</td>\n",
       "      <td>60Nm@3500rpm</td>\n",
       "      <td>40.36bhp@6000rpm</td>\n",
       "      <td>F8D Petrol Engine</td>\n",
       "      <td>2</td>\n",
       "      <td>No</td>\n",
       "      <td>No</td>\n",
       "      <td>No</td>\n",
       "      <td>Yes</td>\n",
       "      <td>No</td>\n",
       "      <td>Drum</td>\n",
       "      <td>796</td>\n",
       "      <td>3</td>\n",
       "      <td>Manual</td>\n",
       "      <td>5</td>\n",
       "      <td>Power</td>\n",
       "      <td>4.6</td>\n",
       "      <td>3445</td>\n",
       "      <td>1515</td>\n",
       "      <td>1475</td>\n",
       "      <td>1185</td>\n",
       "      <td>No</td>\n",
       "      <td>No</td>\n",
       "      <td>No</td>\n",
       "      <td>No</td>\n",
       "      <td>No</td>\n",
       "      <td>No</td>\n",
       "      <td>No</td>\n",
       "      <td>Yes</td>\n",
       "      <td>No</td>\n",
       "      <td>No</td>\n",
       "      <td>No</td>\n",
       "      <td>Yes</td>\n",
       "      <td>0</td>\n",
       "    </tr>\n",
       "  </tbody>\n",
       "</table>\n",
       "</div>"
      ],
      "text/plain": [
       "  policy_id  policy_tenure  age_of_car  age_of_policyholder area_cluster  \\\n",
       "0   ID58593       0.341732        0.00             0.586538           C3   \n",
       "1   ID58594       0.307241        0.13             0.442308           C8   \n",
       "2   ID58595       0.327924        0.12             0.451923           C8   \n",
       "3   ID58596       0.782654        0.01             0.461538           C5   \n",
       "4   ID58597       1.233404        0.02             0.634615           C5   \n",
       "\n",
       "   population_density  make segment model fuel_type     max_torque  \\\n",
       "0                4076     1       A    M1       CNG   60Nm@3500rpm   \n",
       "1                8794     1      B2    M6    Petrol  113Nm@4400rpm   \n",
       "2                8794     2       A    M3    Petrol   91Nm@4250rpm   \n",
       "3               34738     1       A    M1       CNG   60Nm@3500rpm   \n",
       "4               34738     1       A    M1       CNG   60Nm@3500rpm   \n",
       "\n",
       "          max_power        engine_type  airbags is_esc is_adjustable_steering  \\\n",
       "0  40.36bhp@6000rpm  F8D Petrol Engine        2     No                     No   \n",
       "1  88.50bhp@6000rpm  K Series Dual jet        2     No                    Yes   \n",
       "2  67.06bhp@5500rpm            1.0 SCe        2     No                     No   \n",
       "3  40.36bhp@6000rpm  F8D Petrol Engine        2     No                     No   \n",
       "4  40.36bhp@6000rpm  F8D Petrol Engine        2     No                     No   \n",
       "\n",
       "  is_tpms is_parking_sensors is_parking_camera rear_brakes_type  displacement  \\\n",
       "0      No                Yes                No             Drum           796   \n",
       "1      No                Yes                No             Drum          1197   \n",
       "2      No                 No               Yes             Drum           999   \n",
       "3      No                Yes                No             Drum           796   \n",
       "4      No                Yes                No             Drum           796   \n",
       "\n",
       "   cylinder transmission_type  gear_box steering_type  turning_radius  length  \\\n",
       "0         3            Manual         5         Power             4.6    3445   \n",
       "1         4            Manual         5      Electric             4.8    3845   \n",
       "2         3         Automatic         5      Electric             5.0    3731   \n",
       "3         3            Manual         5         Power             4.6    3445   \n",
       "4         3            Manual         5         Power             4.6    3445   \n",
       "\n",
       "   width  height  gross_weight is_front_fog_lights is_rear_window_wiper  \\\n",
       "0   1515    1475          1185                  No                   No   \n",
       "1   1735    1530          1335                 Yes                   No   \n",
       "2   1579    1490          1155                  No                   No   \n",
       "3   1515    1475          1185                  No                   No   \n",
       "4   1515    1475          1185                  No                   No   \n",
       "\n",
       "  is_rear_window_washer is_rear_window_defogger is_brake_assist  \\\n",
       "0                    No                      No              No   \n",
       "1                    No                      No             Yes   \n",
       "2                    No                      No              No   \n",
       "3                    No                      No              No   \n",
       "4                    No                      No              No   \n",
       "\n",
       "  is_power_door_locks is_central_locking is_power_steering  \\\n",
       "0                  No                 No               Yes   \n",
       "1                 Yes                Yes               Yes   \n",
       "2                 Yes                Yes               Yes   \n",
       "3                  No                 No               Yes   \n",
       "4                  No                 No               Yes   \n",
       "\n",
       "  is_driver_seat_height_adjustable is_day_night_rear_view_mirror is_ecw  \\\n",
       "0                               No                            No     No   \n",
       "1                              Yes                           Yes    Yes   \n",
       "2                               No                           Yes    Yes   \n",
       "3                               No                            No     No   \n",
       "4                               No                            No     No   \n",
       "\n",
       "  is_speed_alert  ncap_rating  \n",
       "0            Yes            0  \n",
       "1            Yes            2  \n",
       "2            Yes            2  \n",
       "3            Yes            0  \n",
       "4            Yes            0  "
      ]
     },
     "execution_count": 38,
     "metadata": {},
     "output_type": "execute_result"
    }
   ],
   "source": [
    "s3_input_validate_df = pd.read_csv('s3://techexcellence.ml.project.team3/CarInsuranceClaim/data/test.csv')\n",
    "s3_input_validate_df.head()"
   ]
  },
  {
   "cell_type": "code",
   "execution_count": 39,
   "id": "ad4d94dc-527c-4bf1-b6b6-d74f01266c1f",
   "metadata": {
    "tags": []
   },
   "outputs": [
    {
     "name": "stderr",
     "output_type": "stream",
     "text": [
      "WARNING:sagemaker.deprecations:The csv_serializer has been renamed in sagemaker>=2.\n",
      "See: https://sagemaker.readthedocs.io/en/stable/v2.html for details.\n",
      "WARNING:sagemaker.deprecations:The csv_serializer has been renamed in sagemaker>=2.\n",
      "See: https://sagemaker.readthedocs.io/en/stable/v2.html for details.\n"
     ]
    },
    {
     "name": "stdout",
     "output_type": "stream",
     "text": [
      "(2499,)\n"
     ]
    },
    {
     "name": "stderr",
     "output_type": "stream",
     "text": [
      "WARNING:sagemaker.deprecations:The csv_serializer has been renamed in sagemaker>=2.\n",
      "See: https://sagemaker.readthedocs.io/en/stable/v2.html for details.\n"
     ]
    },
    {
     "name": "stdout",
     "output_type": "stream",
     "text": [
      "(2499,)\n"
     ]
    },
    {
     "name": "stderr",
     "output_type": "stream",
     "text": [
      "WARNING:sagemaker.deprecations:The csv_serializer has been renamed in sagemaker>=2.\n",
      "See: https://sagemaker.readthedocs.io/en/stable/v2.html for details.\n"
     ]
    },
    {
     "name": "stdout",
     "output_type": "stream",
     "text": [
      "(2499,)\n"
     ]
    },
    {
     "name": "stderr",
     "output_type": "stream",
     "text": [
      "WARNING:sagemaker.deprecations:The csv_serializer has been renamed in sagemaker>=2.\n",
      "See: https://sagemaker.readthedocs.io/en/stable/v2.html for details.\n"
     ]
    },
    {
     "name": "stdout",
     "output_type": "stream",
     "text": [
      "(2499,)\n"
     ]
    },
    {
     "name": "stderr",
     "output_type": "stream",
     "text": [
      "WARNING:sagemaker.deprecations:The csv_serializer has been renamed in sagemaker>=2.\n",
      "See: https://sagemaker.readthedocs.io/en/stable/v2.html for details.\n"
     ]
    },
    {
     "name": "stdout",
     "output_type": "stream",
     "text": [
      "(2499,)\n"
     ]
    },
    {
     "name": "stderr",
     "output_type": "stream",
     "text": [
      "WARNING:sagemaker.deprecations:The csv_serializer has been renamed in sagemaker>=2.\n",
      "See: https://sagemaker.readthedocs.io/en/stable/v2.html for details.\n"
     ]
    },
    {
     "name": "stdout",
     "output_type": "stream",
     "text": [
      "(2499,)\n"
     ]
    },
    {
     "name": "stderr",
     "output_type": "stream",
     "text": [
      "WARNING:sagemaker.deprecations:The csv_serializer has been renamed in sagemaker>=2.\n",
      "See: https://sagemaker.readthedocs.io/en/stable/v2.html for details.\n"
     ]
    },
    {
     "name": "stdout",
     "output_type": "stream",
     "text": [
      "(2499,)\n"
     ]
    },
    {
     "name": "stderr",
     "output_type": "stream",
     "text": [
      "WARNING:sagemaker.deprecations:The csv_serializer has been renamed in sagemaker>=2.\n",
      "See: https://sagemaker.readthedocs.io/en/stable/v2.html for details.\n"
     ]
    },
    {
     "name": "stdout",
     "output_type": "stream",
     "text": [
      "(2499,)\n"
     ]
    },
    {
     "name": "stderr",
     "output_type": "stream",
     "text": [
      "WARNING:sagemaker.deprecations:The csv_serializer has been renamed in sagemaker>=2.\n",
      "See: https://sagemaker.readthedocs.io/en/stable/v2.html for details.\n"
     ]
    },
    {
     "name": "stdout",
     "output_type": "stream",
     "text": [
      "(2499,)\n"
     ]
    },
    {
     "name": "stderr",
     "output_type": "stream",
     "text": [
      "WARNING:sagemaker.deprecations:The csv_serializer has been renamed in sagemaker>=2.\n",
      "See: https://sagemaker.readthedocs.io/en/stable/v2.html for details.\n"
     ]
    },
    {
     "name": "stdout",
     "output_type": "stream",
     "text": [
      "(2499,)\n"
     ]
    },
    {
     "name": "stderr",
     "output_type": "stream",
     "text": [
      "WARNING:sagemaker.deprecations:The csv_serializer has been renamed in sagemaker>=2.\n",
      "See: https://sagemaker.readthedocs.io/en/stable/v2.html for details.\n"
     ]
    },
    {
     "name": "stdout",
     "output_type": "stream",
     "text": [
      "(2499,)\n"
     ]
    },
    {
     "name": "stderr",
     "output_type": "stream",
     "text": [
      "WARNING:sagemaker.deprecations:The csv_serializer has been renamed in sagemaker>=2.\n",
      "See: https://sagemaker.readthedocs.io/en/stable/v2.html for details.\n"
     ]
    },
    {
     "name": "stdout",
     "output_type": "stream",
     "text": [
      "(2499,)\n"
     ]
    },
    {
     "name": "stderr",
     "output_type": "stream",
     "text": [
      "WARNING:sagemaker.deprecations:The csv_serializer has been renamed in sagemaker>=2.\n",
      "See: https://sagemaker.readthedocs.io/en/stable/v2.html for details.\n"
     ]
    },
    {
     "name": "stdout",
     "output_type": "stream",
     "text": [
      "(2499,)\n"
     ]
    },
    {
     "name": "stderr",
     "output_type": "stream",
     "text": [
      "WARNING:sagemaker.deprecations:The csv_serializer has been renamed in sagemaker>=2.\n",
      "See: https://sagemaker.readthedocs.io/en/stable/v2.html for details.\n"
     ]
    },
    {
     "name": "stdout",
     "output_type": "stream",
     "text": [
      "(2499,)\n"
     ]
    },
    {
     "name": "stderr",
     "output_type": "stream",
     "text": [
      "WARNING:sagemaker.deprecations:The csv_serializer has been renamed in sagemaker>=2.\n",
      "See: https://sagemaker.readthedocs.io/en/stable/v2.html for details.\n"
     ]
    },
    {
     "name": "stdout",
     "output_type": "stream",
     "text": [
      "(2499,)\n",
      "(1562,)\n"
     ]
    },
    {
     "data": {
      "text/plain": [
       "array([0., 0., 0., ..., 0., 1., 0.])"
      ]
     },
     "execution_count": 39,
     "metadata": {},
     "output_type": "execute_result"
    }
   ],
   "source": [
    "predictions_list = []\n",
    "\n",
    "for i in chunker(s3_input_validate_df, 2500):\n",
    "    test_data_array = i.values\n",
    "    xgb_tuned_predictor.serializer = csv_serializer\n",
    "\n",
    "    predictions = xgb_tuned_predictor.predict(test_data_array).decode('utf-8')\n",
    "    predictions_array = np.fromstring(predictions[1:], sep='\\n')\n",
    "    predictions_list.append(predictions_array)\n",
    "    print(predictions_array.shape)\n",
    "\n",
    "y_hat_2 = np.concatenate(predictions_list, axis=None)\n",
    "y_hat_2"
   ]
  },
  {
   "cell_type": "code",
   "execution_count": 40,
   "id": "b123cc86-afa8-49de-8a0b-113206ee3773",
   "metadata": {
    "tags": []
   },
   "outputs": [
    {
     "data": {
      "text/html": [
       "<div>\n",
       "<style scoped>\n",
       "    .dataframe tbody tr th:only-of-type {\n",
       "        vertical-align: middle;\n",
       "    }\n",
       "\n",
       "    .dataframe tbody tr th {\n",
       "        vertical-align: top;\n",
       "    }\n",
       "\n",
       "    .dataframe thead th {\n",
       "        text-align: right;\n",
       "    }\n",
       "</style>\n",
       "<table border=\"1\" class=\"dataframe\">\n",
       "  <thead>\n",
       "    <tr style=\"text-align: right;\">\n",
       "      <th></th>\n",
       "      <th>policy_id</th>\n",
       "      <th>is_claim_hat</th>\n",
       "    </tr>\n",
       "  </thead>\n",
       "  <tbody>\n",
       "    <tr>\n",
       "      <th>0</th>\n",
       "      <td>ID58593</td>\n",
       "      <td>0.0</td>\n",
       "    </tr>\n",
       "    <tr>\n",
       "      <th>1</th>\n",
       "      <td>ID58594</td>\n",
       "      <td>0.0</td>\n",
       "    </tr>\n",
       "    <tr>\n",
       "      <th>2</th>\n",
       "      <td>ID58595</td>\n",
       "      <td>0.0</td>\n",
       "    </tr>\n",
       "    <tr>\n",
       "      <th>3</th>\n",
       "      <td>ID58596</td>\n",
       "      <td>0.0</td>\n",
       "    </tr>\n",
       "    <tr>\n",
       "      <th>4</th>\n",
       "      <td>ID58597</td>\n",
       "      <td>0.0</td>\n",
       "    </tr>\n",
       "    <tr>\n",
       "      <th>5</th>\n",
       "      <td>ID58598</td>\n",
       "      <td>0.0</td>\n",
       "    </tr>\n",
       "    <tr>\n",
       "      <th>6</th>\n",
       "      <td>ID58599</td>\n",
       "      <td>1.0</td>\n",
       "    </tr>\n",
       "    <tr>\n",
       "      <th>7</th>\n",
       "      <td>ID58600</td>\n",
       "      <td>0.0</td>\n",
       "    </tr>\n",
       "    <tr>\n",
       "      <th>8</th>\n",
       "      <td>ID58601</td>\n",
       "      <td>0.0</td>\n",
       "    </tr>\n",
       "    <tr>\n",
       "      <th>9</th>\n",
       "      <td>ID58602</td>\n",
       "      <td>0.0</td>\n",
       "    </tr>\n",
       "  </tbody>\n",
       "</table>\n",
       "</div>"
      ],
      "text/plain": [
       "  policy_id is_claim_hat\n",
       "0   ID58593          0.0\n",
       "1   ID58594          0.0\n",
       "2   ID58595          0.0\n",
       "3   ID58596          0.0\n",
       "4   ID58597          0.0\n",
       "5   ID58598          0.0\n",
       "6   ID58599          1.0\n",
       "7   ID58600          0.0\n",
       "8   ID58601          0.0\n",
       "9   ID58602          0.0"
      ]
     },
     "execution_count": 40,
     "metadata": {},
     "output_type": "execute_result"
    }
   ],
   "source": [
    "output_df = pd.DataFrame(data=[s3_input_validate_df['policy_id'], y_hat_2]).T\n",
    "output_df.columns = ['policy_id', 'is_claim_hat']\n",
    "output_df.head(10)"
   ]
  },
  {
   "cell_type": "code",
   "execution_count": null,
   "id": "92770541-bdc0-421f-a746-66f0aba75884",
   "metadata": {},
   "outputs": [],
   "source": []
  }
 ],
 "metadata": {
  "kernelspec": {
   "display_name": "conda_python3",
   "language": "python",
   "name": "conda_python3"
  },
  "language_info": {
   "codemirror_mode": {
    "name": "ipython",
    "version": 3
   },
   "file_extension": ".py",
   "mimetype": "text/x-python",
   "name": "python",
   "nbconvert_exporter": "python",
   "pygments_lexer": "ipython3",
   "version": "3.10.8"
  }
 },
 "nbformat": 4,
 "nbformat_minor": 5
}
